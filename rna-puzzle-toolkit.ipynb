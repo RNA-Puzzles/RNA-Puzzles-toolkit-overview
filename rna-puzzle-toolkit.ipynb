{
 "cells": [
  {
   "cell_type": "markdown",
   "metadata": {
    "toc": "true"
   },
   "source": [
    "# Table of Contents\n",
    " <p><div class=\"lev1 toc-item\"><a href=\"#Setup\" data-toc-modified-id=\"Setup-1\"><span class=\"toc-item-num\">1&nbsp;&nbsp;</span>Setup</a></div><div class=\"lev2 toc-item\"><a href=\"#Easy-Install\" data-toc-modified-id=\"Easy-Install-11\"><span class=\"toc-item-num\">1.1&nbsp;&nbsp;</span>Easy Install</a></div><div class=\"lev2 toc-item\"><a href=\"#Easy-Docker\" data-toc-modified-id=\"Easy-Docker-12\"><span class=\"toc-item-num\">1.2&nbsp;&nbsp;</span>Easy Docker</a></div><div class=\"lev1 toc-item\"><a href=\"#BasicAssessMetrics\" data-toc-modified-id=\"BasicAssessMetrics-2\"><span class=\"toc-item-num\">2&nbsp;&nbsp;</span>BasicAssessMetrics</a></div><div class=\"lev2 toc-item\"><a href=\"#Normalize-structures-before-any-calculations\" data-toc-modified-id=\"Normalize-structures-before-any-calculations-21\"><span class=\"toc-item-num\">2.1&nbsp;&nbsp;</span>Normalize structures before any calculations</a></div><div class=\"lev2 toc-item\"><a href=\"#Calculate-RMSD\" data-toc-modified-id=\"Calculate-RMSD-22\"><span class=\"toc-item-num\">2.2&nbsp;&nbsp;</span>Calculate RMSD</a></div><div class=\"lev2 toc-item\"><a href=\"#Calculate-Interaction-Network-Fidelity\" data-toc-modified-id=\"Calculate-Interaction-Network-Fidelity-23\"><span class=\"toc-item-num\">2.3&nbsp;&nbsp;</span>Calculate Interaction Network Fidelity</a></div><div class=\"lev1 toc-item\"><a href=\"#Deformation-Profile\" data-toc-modified-id=\"Deformation-Profile-3\"><span class=\"toc-item-num\">3&nbsp;&nbsp;</span>Deformation Profile</a></div><div class=\"lev2 toc-item\"><a href=\"#Comparing-two-similar-models\" data-toc-modified-id=\"Comparing-two-similar-models-31\"><span class=\"toc-item-num\">3.1&nbsp;&nbsp;</span>Comparing two similar models</a></div><div class=\"lev2 toc-item\"><a href=\"#Comparing-many-similar-models-in-single-run\" data-toc-modified-id=\"Comparing-many-similar-models-in-single-run-32\"><span class=\"toc-item-num\">3.2&nbsp;&nbsp;</span>Comparing many similar models in single run</a></div><div class=\"lev1 toc-item\"><a href=\"#mcq-cli\" data-toc-modified-id=\"mcq-cli-4\"><span class=\"toc-item-num\">4&nbsp;&nbsp;</span>mcq-cli</a></div><div class=\"lev2 toc-item\"><a href=\"#Local\" data-toc-modified-id=\"Local-41\"><span class=\"toc-item-num\">4.1&nbsp;&nbsp;</span>Local</a></div><div class=\"lev1 toc-item\"><a href=\"#rnaqua:-A-tool-supporting-quality-assessment-of-RNA-3D-structures\" data-toc-modified-id=\"rnaqua:-A-tool-supporting-quality-assessment-of-RNA-3D-structures-5\"><span class=\"toc-item-num\">5&nbsp;&nbsp;</span>rnaqua: A tool supporting quality assessment of RNA 3D structures</a></div><div class=\"lev2 toc-item\"><a href=\"#PDB-VALIDATION\" data-toc-modified-id=\"PDB-VALIDATION-51\"><span class=\"toc-item-num\">5.1&nbsp;&nbsp;</span>PDB-VALIDATION</a></div><div class=\"lev2 toc-item\"><a href=\"#Clash-Score\" data-toc-modified-id=\"Clash-Score-52\"><span class=\"toc-item-num\">5.2&nbsp;&nbsp;</span>Clash Score</a></div><div class=\"lev2 toc-item\"><a href=\"#Structure-3D\" data-toc-modified-id=\"Structure-3D-53\"><span class=\"toc-item-num\">5.3&nbsp;&nbsp;</span>Structure 3D</a></div><div class=\"lev1 toc-item\"><a href=\"#rna-tools\" data-toc-modified-id=\"rna-tools-6\"><span class=\"toc-item-num\">6&nbsp;&nbsp;</span>rna-tools</a></div>"
   ]
  },
  {
   "cell_type": "code",
   "execution_count": 1,
   "metadata": {},
   "outputs": [
    {
     "name": "stdout",
     "output_type": "stream",
     "text": [
      "The autoreload extension is already loaded. To reload it, use:\n",
      "  %reload_ext autoreload\n"
     ]
    }
   ],
   "source": [
    "%load_ext autoreload\n",
    "%autoreload 2"
   ]
  },
  {
   "cell_type": "markdown",
   "metadata": {},
   "source": [
    "# Setup"
   ]
  },
  {
   "cell_type": "markdown",
   "metadata": {},
   "source": [
    "## Easy Install"
   ]
  },
  {
   "cell_type": "code",
   "execution_count": 1,
   "metadata": {},
   "outputs": [
    {
     "name": "stdout",
     "output_type": "stream",
     "text": [
      "BasicAssessMetrics\n",
      "DeformationProfile\n",
      "__init__.py\n",
      "__init__.pyc\n",
      "mcq-cli\n",
      "mcq4structures\n",
      "rnaqua\n"
     ]
    },
    {
     "name": "stderr",
     "output_type": "stream",
     "text": []
    }
   ],
   "source": [
    "%%bash\n",
    "cd opt\n",
    "git clone https://github.com/RNA-Puzzles/BasicAssessMetrics.git"
   ]
  },
  {
   "cell_type": "code",
   "execution_count": 3,
   "metadata": {},
   "outputs": [
    {
     "name": "stderr",
     "output_type": "stream",
     "text": [
      "Cloning into 'DeformationProfile'...\n"
     ]
    }
   ],
   "source": [
    "%%bash\n",
    "git clone https://github.com/RNA-Puzzles/DeformationProfile.git"
   ]
  },
  {
   "cell_type": "markdown",
   "metadata": {},
   "source": [
    "## Easy Docker"
   ]
  },
  {
   "cell_type": "markdown",
   "metadata": {},
   "source": [
    "Docker provides a way to run applications securely isolated in a container, packaged with all its dependencies and libraries.\n",
    "\n",
    "Read here to install docker on Your machine <https://docs.docker.com/install/>\n",
    "\n",
    "When you have install Docker, then please go to the next cell, to download RNA-Puzzles Toolkit."
   ]
  },
  {
   "cell_type": "code",
   "execution_count": 5,
   "metadata": {},
   "outputs": [
    {
     "name": "stdout",
     "output_type": "stream",
     "text": [
      "Using default tag: latest\n",
      "latest: Pulling from rnapuzzles/toolkit\n",
      "Digest: sha256:ff9a66af290adabbf27d549fbc58ff36dfb183f12c2f7b6972490075b09faf83\n",
      "Status: Image is up to date for rnapuzzles/toolkit:latest\n",
      "docker.io/rnapuzzles/toolkit:latest\n"
     ]
    }
   ],
   "source": [
    "%%bash\n",
    "docker pull rnapuzzles/toolkit"
   ]
  },
  {
   "cell_type": "markdown",
   "metadata": {},
   "source": [
    "# BasicAssessMetrics"
   ]
  },
  {
   "cell_type": "code",
   "execution_count": 7,
   "metadata": {},
   "outputs": [
    {
     "name": "stdout",
     "output_type": "stream",
     "text": [
      "/Users/magnus/work-src/RNA-Puzzles-toolkit-overview/opt/BasicAssessMetrics\n"
     ]
    }
   ],
   "source": [
    "cd opt/BasicAssessMetrics"
   ]
  },
  {
   "cell_type": "code",
   "execution_count": 10,
   "metadata": {},
   "outputs": [],
   "source": [
    "from example import normalize_structure, \\\n",
    "                               interaction_network_fidelity, \\\n",
    "                               calc_RMSD"
   ]
  },
  {
   "cell_type": "markdown",
   "metadata": {},
   "source": [
    "## Normalize structures before any calculations"
   ]
  },
  {
   "cell_type": "markdown",
   "metadata": {},
   "source": [
    "Normalize PDB format, correct residue names and atom names. "
   ]
  },
  {
   "cell_type": "code",
   "execution_count": 11,
   "metadata": {},
   "outputs": [
    {
     "name": "stderr",
     "output_type": "stream",
     "text": [
      "INFO: Normalization succeded!\n"
     ]
    }
   ],
   "source": [
    "normalize_structure('example/14_solution_0.pdb','example/14_solution_normalized.pdb')"
   ]
  },
  {
   "cell_type": "markdown",
   "metadata": {},
   "source": [
    "## Calculate RMSD"
   ]
  },
  {
   "cell_type": "markdown",
   "metadata": {},
   "source": [
    "Structure are normalized, so now we can calculate RMSD for RNA structures."
   ]
  },
  {
   "cell_type": "code",
   "execution_count": 13,
   "metadata": {},
   "outputs": [
    {
     "name": "stderr",
     "output_type": "stream",
     "text": [
      "WARNING    >> Atom P from residue (' ', 1, ' ') not found in target atom list\n",
      "WARNING    >> Atom OP1 from residue (' ', 1, ' ') not found in target atom list\n",
      "WARNING    >> Atom OP2 from residue (' ', 1, ' ') not found in target atom list\n"
     ]
    },
    {
     "name": "stdout",
     "output_type": "stream",
     "text": [
      "14_ChenPostExp_2\n",
      "  RMSD: 7.751173243045827\n",
      "  pvalue: 7.327471962526033e-15\n"
     ]
    },
    {
     "name": "stderr",
     "output_type": "stream",
     "text": [
      "INFO Partial RMSD --> 7.751173\n",
      "INFO Partial P-Value --> 7.327472e-15\n"
     ]
    }
   ],
   "source": [
    "rmsd, pvalue = calc_RMSD(\"example/14_solution_0.pdb\",\n",
    "        \"example/14_solution_0.index\",\n",
    "        \"example/14_ChenPostExp_2.pdb\",\n",
    "        \"example/14_ChenPostExp_2.index\")\n",
    "\n",
    "print '14_ChenPostExp_2'\n",
    "print '  RMSD:', rmsd\n",
    "print '  pvalue:', pvalue"
   ]
  },
  {
   "cell_type": "markdown",
   "metadata": {},
   "source": [
    "## Calculate Interaction Network Fidelity"
   ]
  },
  {
   "cell_type": "markdown",
   "metadata": {},
   "source": [
    "Calculate InteractionNetworkFidelity and Deformation Index for RNA structures\n",
    "(need to have MA-annotate in the directory or set in mcannotate.py)"
   ]
  },
  {
   "cell_type": "code",
   "execution_count": 14,
   "metadata": {},
   "outputs": [
    {
     "name": "stderr",
     "output_type": "stream",
     "text": [
      "WARNING    >> Atom P from residue (' ', 1, ' ') not found in target atom list\n",
      "WARNING    >> Atom OP1 from residue (' ', 1, ' ') not found in target atom list\n",
      "WARNING    >> Atom OP2 from residue (' ', 1, ' ') not found in target atom list\n"
     ]
    },
    {
     "name": "stdout",
     "output_type": "stream",
     "text": [
      "14_ChenPostExp_2, rmsd 7.751173243045827\n",
      "  DI_ALL: 10.643784178530254\n",
      "  INF_ALL: 0.72823472489\n"
     ]
    }
   ],
   "source": [
    "rmsd, DI_ALL, INF_ALL, INF_WC, INF_NWC,INF_STACK = interaction_network_fidelity(\"example/14_solution_0.pdb\",\n",
    "          \"example/14_solution_0.index\",\n",
    "          \"example/14_ChenPostExp_2.pdb\",\n",
    "          \"example/14_ChenPostExp_2.index\")\n",
    "\n",
    "print '14_ChenPostExp_2, rmsd', rmsd\n",
    "print \"  DI_ALL:\", DI_ALL\n",
    "print \"  INF_ALL:\", INF_ALL"
   ]
  },
  {
   "cell_type": "code",
   "execution_count": 15,
   "metadata": {},
   "outputs": [
    {
     "name": "stdout",
     "output_type": "stream",
     "text": [
      "/Users/magnus/work-src/RNA-Puzzles-toolkit-overview/opt\n"
     ]
    }
   ],
   "source": [
    "cd ../"
   ]
  },
  {
   "cell_type": "markdown",
   "metadata": {
    "collapsed": true
   },
   "source": [
    "# Deformation Profile"
   ]
  },
  {
   "cell_type": "markdown",
   "metadata": {},
   "source": [
    "Read [DeformationProfile Manual.pdf](https://github.com/RNA-Puzzles/DeformationProfile/blob/master/manual_1_0_1.pdf) for more details. "
   ]
  },
  {
   "cell_type": "markdown",
   "metadata": {},
   "source": [
    "## Comparing two similar models"
   ]
  },
  {
   "cell_type": "code",
   "execution_count": 5,
   "metadata": {},
   "outputs": [
    {
     "name": "stdout",
     "output_type": "stream",
     "text": [
      "/Users/magnus/work-src/RNA-Puzzles-toolkit-overview/opt/DeformationProfile\n"
     ]
    }
   ],
   "source": [
    "cd opt/DeformationProfile"
   ]
  },
  {
   "cell_type": "code",
   "execution_count": 7,
   "metadata": {},
   "outputs": [
    {
     "name": "stdout",
     "output_type": "stream",
     "text": [
      "- - - - - - - - - - - - - - - - - - - - - - - - - - - - - - \n",
      "reference:    a.pdb\n",
      "comparing:    b.pdb\n",
      "\n",
      "ref id:       201 202 203 204 205 206 207 208 209 210 211 212 213 214 215 216 217 218 219 220 \n",
      "cmp id:       201 202 203 204 205 206 207 208 209 210 211 212 213 214 215 216 217 218 219 220 \n",
      "\n",
      "ref chain:      B   B   B   B   B   B   B   B   B   B   B   B   B   B   B   B   B   B   B   B \n",
      "cmp chain:      B   B   B   B   B   B   B   B   B   B   B   B   B   B   B   B   B   B   B   B \n",
      "ref residues:   G   G   A   C   U   A   G   C   G   G   A   G   G   C   U   A   G   U   C   C \n",
      "cmp residues:   G   G   A   C   U   A   G   C   G   G   A   G   G   C   U   A   G   U   C   C \n",
      "align. index:   0   1   2   3   4   5   6   7   8   9  10  11  12  13  14  15  16  17  18  19 \n",
      "- - - - - - - - - - - - - - - - - - - - - - - - - - - - - - \n"
     ]
    },
    {
     "name": "stderr",
     "output_type": "stream",
     "text": [
      "opening reference file: 'examples/ex1/a.pdb'\n",
      "opening comparing file: 'examples/ex1/b.pdb'\n",
      "comparing models...\n",
      "\b\b\b\b\b\b\b\b\b\b\b\b\b\b\b\b\b\b\b\b\b\b\b\b\b\b\b\b\b\b\b\b\b\b\b\b\b\b\b\bstep: 0 of 19\b\b\b\b\b\b\b\b\b\b\b\b\b\b\b\b\b\b\b\b\b\b\b\b\b\b\b\b\b\b\b\b\b\b\b\b\b\b\b\bstep: 1 of 19\b\b\b\b\b\b\b\b\b\b\b\b\b\b\b\b\b\b\b\b\b\b\b\b\b\b\b\b\b\b\b\b\b\b\b\b\b\b\b\bstep: 2 of 19\b\b\b\b\b\b\b\b\b\b\b\b\b\b\b\b\b\b\b\b\b\b\b\b\b\b\b\b\b\b\b\b\b\b\b\b\b\b\b\bstep: 3 of 19\b\b\b\b\b\b\b\b\b\b\b\b\b\b\b\b\b\b\b\b\b\b\b\b\b\b\b\b\b\b\b\b\b\b\b\b\b\b\b\bstep: 4 of 19\b\b\b\b\b\b\b\b\b\b\b\b\b\b\b\b\b\b\b\b\b\b\b\b\b\b\b\b\b\b\b\b\b\b\b\b\b\b\b\bstep: 5 of 19\b\b\b\b\b\b\b\b\b\b\b\b\b\b\b\b\b\b\b\b\b\b\b\b\b\b\b\b\b\b\b\b\b\b\b\b\b\b\b\bstep: 6 of 19\b\b\b\b\b\b\b\b\b\b\b\b\b\b\b\b\b\b\b\b\b\b\b\b\b\b\b\b\b\b\b\b\b\b\b\b\b\b\b\bstep: 7 of 19\b\b\b\b\b\b\b\b\b\b\b\b\b\b\b\b\b\b\b\b\b\b\b\b\b\b\b\b\b\b\b\b\b\b\b\b\b\b\b\bstep: 8 of 19\b\b\b\b\b\b\b\b\b\b\b\b\b\b\b\b\b\b\b\b\b\b\b\b\b\b\b\b\b\b\b\b\b\b\b\b\b\b\b\bstep: 9 of 19\b\b\b\b\b\b\b\b\b\b\b\b\b\b\b\b\b\b\b\b\b\b\b\b\b\b\b\b\b\b\b\b\b\b\b\b\b\b\b\bstep: 10 of 19\b\b\b\b\b\b\b\b\b\b\b\b\b\b\b\b\b\b\b\b\b\b\b\b\b\b\b\b\b\b\b\b\b\b\b\b\b\b\b\bstep: 11 of 19\b\b\b\b\b\b\b\b\b\b\b\b\b\b\b\b\b\b\b\b\b\b\b\b\b\b\b\b\b\b\b\b\b\b\b\b\b\b\b\bstep: 12 of 19\b\b\b\b\b\b\b\b\b\b\b\b\b\b\b\b\b\b\b\b\b\b\b\b\b\b\b\b\b\b\b\b\b\b\b\b\b\b\b\bstep: 13 of 19\b\b\b\b\b\b\b\b\b\b\b\b\b\b\b\b\b\b\b\b\b\b\b\b\b\b\b\b\b\b\b\b\b\b\b\b\b\b\b\bstep: 14 of 19\b\b\b\b\b\b\b\b\b\b\b\b\b\b\b\b\b\b\b\b\b\b\b\b\b\b\b\b\b\b\b\b\b\b\b\b\b\b\b\bstep: 15 of 19\b\b\b\b\b\b\b\b\b\b\b\b\b\b\b\b\b\b\b\b\b\b\b\b\b\b\b\b\b\b\b\b\b\b\b\b\b\b\b\bstep: 16 of 19\b\b\b\b\b\b\b\b\b\b\b\b\b\b\b\b\b\b\b\b\b\b\b\b\b\b\b\b\b\b\b\b\b\b\b\b\b\b\b\bstep: 17 of 19\b\b\b\b\b\b\b\b\b\b\b\b\b\b\b\b\b\b\b\b\b\b\b\b\b\b\b\b\b\b\b\b\b\b\b\b\b\b\b\bstep: 18 of 19\b\b\b\b\b\b\b\b\b\b\b\b\b\b\b\b\b\b\b\b\b\b\b\b\b\b\b\b\b\b\b\b\b\b\b\b\b\b\b\bstep: 19 of 19\b\b\b\b\b\b\b\b\b\b\b\b\b\b\b\b\b\b\b\b\b\b\b\b\b\b\b\b\b\b\b\b\b\b\b\b\b\b\b\bdone\n",
      "saving data file...\n",
      "saving svg file...\n"
     ]
    }
   ],
   "source": [
    "%%bash\n",
    "python dp.py examples/ex1/a.pdb examples/ex1/b.pdb\n",
    "convert examples/ex1/b.svg examples/ex1/b.png  # convert to png to be able to display it in Jupyter at Github"
   ]
  },
  {
   "cell_type": "markdown",
   "metadata": {},
   "source": [
    "![x](opt/DeformationProfile/examples/ex1/b.png)"
   ]
  },
  {
   "cell_type": "code",
   "execution_count": 18,
   "metadata": {},
   "outputs": [
    {
     "name": "stdout",
     "output_type": "stream",
     "text": [
      "#DP 1.0\n",
      "REF_PDB\texamples/ex1/a.pdb\n",
      "REF_MODEL\t0\n",
      "REF_MODEL_SEQUENCE\tGGACUAGCGGAGGCUAGUCC\n",
      "REF_MODEL_RESIDUES\t(B:201:'G  ')(B:202:'G  ')(B:203:'A  ')(B:204:'C  ')(B:205:'U  ')(B:206:'A  ')(B:207:'G  ')(B:208:'C  ')(B:209:'G  ')(B:210:'G  ')(B:211:'A  ')(B:212:'G  ')(B:213:'G  ')(B:214:'C  ')(B:215:'U  ')(B:216:'A  ')(B:217:'G  ')(B:218:'U  ')(B:219:'C  ')(B:220:'C  ')\n",
      "CMP_PDB\texamples/ex1/b.pdb\n",
      "CMP_MODEL\t0\n",
      "CMP_MODEL_SEQUENCE\tGGACUAGCGGAGGCUAGUCC\n",
      "CMP_MODEL_RESIDUES\t(B:201:'G  ')(B:202:'G  ')(B:203:'A  ')(B:204:'C  ')(B:205:'U  ')(B:206:'A  ')(B:207:'G  ')(B:208:'C  ')(B:209:'G  ')(B:210:'G  ')(B:211:'A  ')(B:212:'G  ')(B:213:'G  ')(B:214:'C  ')(B:215:'U  ')(B:216:'A  ')(B:217:'G  ')(B:218:'U  ')(B:219:'C  ')(B:220:'C  ')\n",
      "LOCAL_RMSD\t0.455\t0.170\t0.093\t0.386\t0.876\t0.140\t0.162\t0.361\t0.782\t1.005\t0.132\t0.488\t0.977\t0.388\t0.338\t0.484\t0.115\t0.164\t0.106\t0.072\n",
      "ROW_MEANS\t3.090\t2.476\t2.573\t2.873\t2.802\t1.524\t1.490\t1.833\t4.401\t3.858\t2.353\t2.725\t6.356\t2.263\t1.805\t2.301\t2.531\t2.065\t2.437\t3.917\n",
      "COL_MEANS\t3.518\t3.125\t2.749\t2.337\t1.941\t1.827\t1.979\t2.699\t3.295\t4.629\t4.076\t3.247\t3.234\t2.218\t1.947\t1.768\t1.826\t2.388\t3.021\t3.851\n",
      "ROW_0\t0.275\t0.775\t1.311\t1.894\t2.631\t2.695\t2.894\t4.142\t5.199\t6.791\t6.582\t5.425\t5.092\t3.335\t2.708\t2.299\t2.138\t2.176\t1.817\t1.619\n",
      "ROW_1\t0.598\t0.146\t0.228\t0.514\t0.817\t1.478\t2.389\t4.116\t5.210\t7.493\t6.986\t5.288\t5.262\t3.322\t2.458\t1.217\t0.537\t0.260\t0.297\t0.897\n",
      "ROW_2\t0.784\t0.280\t0.079\t0.410\t0.925\t1.524\t2.457\t4.141\t5.234\t7.380\t7.018\t5.348\t5.437\t3.579\t2.793\t1.595\t0.786\t0.505\t0.314\t0.882\n"
     ]
    }
   ],
   "source": [
    "%%bash\n",
    "head -n 15 examples/ex1/b.dat"
   ]
  },
  {
   "cell_type": "markdown",
   "metadata": {},
   "source": [
    "## Comparing many similar models in single run"
   ]
  },
  {
   "cell_type": "code",
   "execution_count": 19,
   "metadata": {},
   "outputs": [
    {
     "name": "stdout",
     "output_type": "stream",
     "text": [
      "- - - - - - - - - - - - - - - - - - - - - - - - - - - - - - \n",
      "reference:    a.pdb\n",
      "comparing:    b1.pdb\n",
      "\n",
      "ref id:       201 202 203 204 205 206 207 208 209 210 211 212 213 214 215 216 217 218 219 220 \n",
      "cmp id:       201 202 203 204 205 206 207 208 209 210 211 212 213 214 215 216 217 218 219 220 \n",
      "\n",
      "ref chain:      B   B   B   B   B   B   B   B   B   B   B   B   B   B   B   B   B   B   B   B \n",
      "cmp chain:      B   B   B   B   B   B   B   B   B   B   B   B   B   B   B   B   B   B   B   B \n",
      "ref residues:   G   G   A   C   U   A   G   C   G   G   A   G   G   C   U   A   G   U   C   C \n",
      "cmp residues:   G   G   A   C   U   A   G   C   G   G   A   G   G   C   U   A   G   U   C   C \n",
      "align. index:   0   1   2   3   4   5   6   7   8   9  10  11  12  13  14  15  16  17  18  19 \n",
      "- - - - - - - - - - - - - - - - - - - - - - - - - - - - - - \n",
      "- - - - - - - - - - - - - - - - - - - - - - - - - - - - - - \n",
      "reference:    a.pdb\n",
      "comparing:    b2.pdb\n",
      "\n",
      "ref id:       201 202 203 204 205 206 207 208 209 210 211 212 213 214 215 216 217 218 219 220 \n",
      "cmp id:       201 202 203 204 205 206 207 208 209 210 211 212 213 214 215 216 217 218 219 220 \n",
      "\n",
      "ref chain:      B   B   B   B   B   B   B   B   B   B   B   B   B   B   B   B   B   B   B   B \n",
      "cmp chain:      B   B   B   B   B   B   B   B   B   B   B   B   B   B   B   B   B   B   B   B \n",
      "ref residues:   G   G   A   C   U   A   G   C   G   G   A   G   G   C   U   A   G   U   C   C \n",
      "cmp residues:   G   G   A   C   U   A   G   C   G   G   A   G   G   C   U   A   G   U   C   C \n",
      "align. index:   0   1   2   3   4   5   6   7   8   9  10  11  12  13  14  15  16  17  18  19 \n",
      "- - - - - - - - - - - - - - - - - - - - - - - - - - - - - - \n",
      "- - - - - - - - - - - - - - - - - - - - - - - - - - - - - - \n",
      "reference:    a.pdb\n",
      "comparing:    b3.pdb\n",
      "\n",
      "ref id:       201 202 203 204 205 206 207 208 209 210 211 212 213 214 215 216 217 218 219 220 \n",
      "cmp id:       201 202 203 204 205 206 207 208 209 210 211 212 213 214 215 216 217 218 219 220 \n",
      "\n",
      "ref chain:      B   B   B   B   B   B   B   B   B   B   B   B   B   B   B   B   B   B   B   B \n",
      "cmp chain:      B   B   B   B   B   B   B   B   B   B   B   B   B   B   B   B   B   B   B   B \n",
      "ref residues:   G   G   A   C   U   A   G   C   G   G   A   G   G   C   U   A   G   U   C   C \n",
      "cmp residues:   G   G   A   C   U   A   G   C   G   G   A   G   G   C   U   A   G   U   C   C \n",
      "align. index:   0   1   2   3   4   5   6   7   8   9  10  11  12  13  14  15  16  17  18  19 \n",
      "- - - - - - - - - - - - - - - - - - - - - - - - - - - - - - \n"
     ]
    },
    {
     "name": "stderr",
     "output_type": "stream",
     "text": [
      "opening reference file: './ref/a.pdb'\n",
      "opening comparing file: './cmp/b1.pdb'\n",
      "comparing models...\n",
      "\b\b\b\b\b\b\b\b\b\b\b\b\b\b\b\b\b\b\b\b\b\b\b\b\b\b\b\b\b\b\b\b\b\b\b\b\b\b\b\bstep: 0 of 19\b\b\b\b\b\b\b\b\b\b\b\b\b\b\b\b\b\b\b\b\b\b\b\b\b\b\b\b\b\b\b\b\b\b\b\b\b\b\b\bstep: 1 of 19\b\b\b\b\b\b\b\b\b\b\b\b\b\b\b\b\b\b\b\b\b\b\b\b\b\b\b\b\b\b\b\b\b\b\b\b\b\b\b\bstep: 2 of 19\b\b\b\b\b\b\b\b\b\b\b\b\b\b\b\b\b\b\b\b\b\b\b\b\b\b\b\b\b\b\b\b\b\b\b\b\b\b\b\bstep: 3 of 19\b\b\b\b\b\b\b\b\b\b\b\b\b\b\b\b\b\b\b\b\b\b\b\b\b\b\b\b\b\b\b\b\b\b\b\b\b\b\b\bstep: 4 of 19\b\b\b\b\b\b\b\b\b\b\b\b\b\b\b\b\b\b\b\b\b\b\b\b\b\b\b\b\b\b\b\b\b\b\b\b\b\b\b\bstep: 5 of 19\b\b\b\b\b\b\b\b\b\b\b\b\b\b\b\b\b\b\b\b\b\b\b\b\b\b\b\b\b\b\b\b\b\b\b\b\b\b\b\bstep: 6 of 19\b\b\b\b\b\b\b\b\b\b\b\b\b\b\b\b\b\b\b\b\b\b\b\b\b\b\b\b\b\b\b\b\b\b\b\b\b\b\b\bstep: 7 of 19\b\b\b\b\b\b\b\b\b\b\b\b\b\b\b\b\b\b\b\b\b\b\b\b\b\b\b\b\b\b\b\b\b\b\b\b\b\b\b\bstep: 8 of 19\b\b\b\b\b\b\b\b\b\b\b\b\b\b\b\b\b\b\b\b\b\b\b\b\b\b\b\b\b\b\b\b\b\b\b\b\b\b\b\bstep: 9 of 19\b\b\b\b\b\b\b\b\b\b\b\b\b\b\b\b\b\b\b\b\b\b\b\b\b\b\b\b\b\b\b\b\b\b\b\b\b\b\b\bstep: 10 of 19\b\b\b\b\b\b\b\b\b\b\b\b\b\b\b\b\b\b\b\b\b\b\b\b\b\b\b\b\b\b\b\b\b\b\b\b\b\b\b\bstep: 11 of 19\b\b\b\b\b\b\b\b\b\b\b\b\b\b\b\b\b\b\b\b\b\b\b\b\b\b\b\b\b\b\b\b\b\b\b\b\b\b\b\bstep: 12 of 19\b\b\b\b\b\b\b\b\b\b\b\b\b\b\b\b\b\b\b\b\b\b\b\b\b\b\b\b\b\b\b\b\b\b\b\b\b\b\b\bstep: 13 of 19\b\b\b\b\b\b\b\b\b\b\b\b\b\b\b\b\b\b\b\b\b\b\b\b\b\b\b\b\b\b\b\b\b\b\b\b\b\b\b\bstep: 14 of 19\b\b\b\b\b\b\b\b\b\b\b\b\b\b\b\b\b\b\b\b\b\b\b\b\b\b\b\b\b\b\b\b\b\b\b\b\b\b\b\bstep: 15 of 19\b\b\b\b\b\b\b\b\b\b\b\b\b\b\b\b\b\b\b\b\b\b\b\b\b\b\b\b\b\b\b\b\b\b\b\b\b\b\b\bstep: 16 of 19\b\b\b\b\b\b\b\b\b\b\b\b\b\b\b\b\b\b\b\b\b\b\b\b\b\b\b\b\b\b\b\b\b\b\b\b\b\b\b\bstep: 17 of 19\b\b\b\b\b\b\b\b\b\b\b\b\b\b\b\b\b\b\b\b\b\b\b\b\b\b\b\b\b\b\b\b\b\b\b\b\b\b\b\bstep: 18 of 19\b\b\b\b\b\b\b\b\b\b\b\b\b\b\b\b\b\b\b\b\b\b\b\b\b\b\b\b\b\b\b\b\b\b\b\b\b\b\b\bstep: 19 of 19\b\b\b\b\b\b\b\b\b\b\b\b\b\b\b\b\b\b\b\b\b\b\b\b\b\b\b\b\b\b\b\b\b\b\b\b\b\b\b\bdone\n",
      "saving data file...\n",
      "saving svg file...\n",
      "opening comparing file: './cmp/b2.pdb'\n",
      "comparing models...\n",
      "\b\b\b\b\b\b\b\b\b\b\b\b\b\b\b\b\b\b\b\b\b\b\b\b\b\b\b\b\b\b\b\b\b\b\b\b\b\b\b\bstep: 0 of 19\b\b\b\b\b\b\b\b\b\b\b\b\b\b\b\b\b\b\b\b\b\b\b\b\b\b\b\b\b\b\b\b\b\b\b\b\b\b\b\bstep: 1 of 19\b\b\b\b\b\b\b\b\b\b\b\b\b\b\b\b\b\b\b\b\b\b\b\b\b\b\b\b\b\b\b\b\b\b\b\b\b\b\b\bstep: 2 of 19\b\b\b\b\b\b\b\b\b\b\b\b\b\b\b\b\b\b\b\b\b\b\b\b\b\b\b\b\b\b\b\b\b\b\b\b\b\b\b\bstep: 3 of 19\b\b\b\b\b\b\b\b\b\b\b\b\b\b\b\b\b\b\b\b\b\b\b\b\b\b\b\b\b\b\b\b\b\b\b\b\b\b\b\bstep: 4 of 19\b\b\b\b\b\b\b\b\b\b\b\b\b\b\b\b\b\b\b\b\b\b\b\b\b\b\b\b\b\b\b\b\b\b\b\b\b\b\b\bstep: 5 of 19\b\b\b\b\b\b\b\b\b\b\b\b\b\b\b\b\b\b\b\b\b\b\b\b\b\b\b\b\b\b\b\b\b\b\b\b\b\b\b\bstep: 6 of 19\b\b\b\b\b\b\b\b\b\b\b\b\b\b\b\b\b\b\b\b\b\b\b\b\b\b\b\b\b\b\b\b\b\b\b\b\b\b\b\bstep: 7 of 19\b\b\b\b\b\b\b\b\b\b\b\b\b\b\b\b\b\b\b\b\b\b\b\b\b\b\b\b\b\b\b\b\b\b\b\b\b\b\b\bstep: 8 of 19\b\b\b\b\b\b\b\b\b\b\b\b\b\b\b\b\b\b\b\b\b\b\b\b\b\b\b\b\b\b\b\b\b\b\b\b\b\b\b\bstep: 9 of 19\b\b\b\b\b\b\b\b\b\b\b\b\b\b\b\b\b\b\b\b\b\b\b\b\b\b\b\b\b\b\b\b\b\b\b\b\b\b\b\bstep: 10 of 19\b\b\b\b\b\b\b\b\b\b\b\b\b\b\b\b\b\b\b\b\b\b\b\b\b\b\b\b\b\b\b\b\b\b\b\b\b\b\b\bstep: 11 of 19\b\b\b\b\b\b\b\b\b\b\b\b\b\b\b\b\b\b\b\b\b\b\b\b\b\b\b\b\b\b\b\b\b\b\b\b\b\b\b\bstep: 12 of 19\b\b\b\b\b\b\b\b\b\b\b\b\b\b\b\b\b\b\b\b\b\b\b\b\b\b\b\b\b\b\b\b\b\b\b\b\b\b\b\bstep: 13 of 19\b\b\b\b\b\b\b\b\b\b\b\b\b\b\b\b\b\b\b\b\b\b\b\b\b\b\b\b\b\b\b\b\b\b\b\b\b\b\b\bstep: 14 of 19\b\b\b\b\b\b\b\b\b\b\b\b\b\b\b\b\b\b\b\b\b\b\b\b\b\b\b\b\b\b\b\b\b\b\b\b\b\b\b\bstep: 15 of 19\b\b\b\b\b\b\b\b\b\b\b\b\b\b\b\b\b\b\b\b\b\b\b\b\b\b\b\b\b\b\b\b\b\b\b\b\b\b\b\bstep: 16 of 19\b\b\b\b\b\b\b\b\b\b\b\b\b\b\b\b\b\b\b\b\b\b\b\b\b\b\b\b\b\b\b\b\b\b\b\b\b\b\b\bstep: 17 of 19\b\b\b\b\b\b\b\b\b\b\b\b\b\b\b\b\b\b\b\b\b\b\b\b\b\b\b\b\b\b\b\b\b\b\b\b\b\b\b\bstep: 18 of 19\b\b\b\b\b\b\b\b\b\b\b\b\b\b\b\b\b\b\b\b\b\b\b\b\b\b\b\b\b\b\b\b\b\b\b\b\b\b\b\bstep: 19 of 19\b\b\b\b\b\b\b\b\b\b\b\b\b\b\b\b\b\b\b\b\b\b\b\b\b\b\b\b\b\b\b\b\b\b\b\b\b\b\b\bdone\n",
      "saving data file...\n",
      "saving svg file...\n",
      "opening comparing file: './cmp/b3.pdb'\n",
      "comparing models...\n",
      "\b\b\b\b\b\b\b\b\b\b\b\b\b\b\b\b\b\b\b\b\b\b\b\b\b\b\b\b\b\b\b\b\b\b\b\b\b\b\b\bstep: 0 of 19\b\b\b\b\b\b\b\b\b\b\b\b\b\b\b\b\b\b\b\b\b\b\b\b\b\b\b\b\b\b\b\b\b\b\b\b\b\b\b\bstep: 1 of 19\b\b\b\b\b\b\b\b\b\b\b\b\b\b\b\b\b\b\b\b\b\b\b\b\b\b\b\b\b\b\b\b\b\b\b\b\b\b\b\bstep: 2 of 19\b\b\b\b\b\b\b\b\b\b\b\b\b\b\b\b\b\b\b\b\b\b\b\b\b\b\b\b\b\b\b\b\b\b\b\b\b\b\b\bstep: 3 of 19\b\b\b\b\b\b\b\b\b\b\b\b\b\b\b\b\b\b\b\b\b\b\b\b\b\b\b\b\b\b\b\b\b\b\b\b\b\b\b\bstep: 4 of 19\b\b\b\b\b\b\b\b\b\b\b\b\b\b\b\b\b\b\b\b\b\b\b\b\b\b\b\b\b\b\b\b\b\b\b\b\b\b\b\bstep: 5 of 19\b\b\b\b\b\b\b\b\b\b\b\b\b\b\b\b\b\b\b\b\b\b\b\b\b\b\b\b\b\b\b\b\b\b\b\b\b\b\b\bstep: 6 of 19\b\b\b\b\b\b\b\b\b\b\b\b\b\b\b\b\b\b\b\b\b\b\b\b\b\b\b\b\b\b\b\b\b\b\b\b\b\b\b\bstep: 7 of 19\b\b\b\b\b\b\b\b\b\b\b\b\b\b\b\b\b\b\b\b\b\b\b\b\b\b\b\b\b\b\b\b\b\b\b\b\b\b\b\bstep: 8 of 19\b\b\b\b\b\b\b\b\b\b\b\b\b\b\b\b\b\b\b\b\b\b\b\b\b\b\b\b\b\b\b\b\b\b\b\b\b\b\b\bstep: 9 of 19\b\b\b\b\b\b\b\b\b\b\b\b\b\b\b\b\b\b\b\b\b\b\b\b\b\b\b\b\b\b\b\b\b\b\b\b\b\b\b\bstep: 10 of 19\b\b\b\b\b\b\b\b\b\b\b\b\b\b\b\b\b\b\b\b\b\b\b\b\b\b\b\b\b\b\b\b\b\b\b\b\b\b\b\bstep: 11 of 19\b\b\b\b\b\b\b\b\b\b\b\b\b\b\b\b\b\b\b\b\b\b\b\b\b\b\b\b\b\b\b\b\b\b\b\b\b\b\b\bstep: 12 of 19\b\b\b\b\b\b\b\b\b\b\b\b\b\b\b\b\b\b\b\b\b\b\b\b\b\b\b\b\b\b\b\b\b\b\b\b\b\b\b\bstep: 13 of 19\b\b\b\b\b\b\b\b\b\b\b\b\b\b\b\b\b\b\b\b\b\b\b\b\b\b\b\b\b\b\b\b\b\b\b\b\b\b\b\bstep: 14 of 19\b\b\b\b\b\b\b\b\b\b\b\b\b\b\b\b\b\b\b\b\b\b\b\b\b\b\b\b\b\b\b\b\b\b\b\b\b\b\b\bstep: 15 of 19\b\b\b\b\b\b\b\b\b\b\b\b\b\b\b\b\b\b\b\b\b\b\b\b\b\b\b\b\b\b\b\b\b\b\b\b\b\b\b\bstep: 16 of 19\b\b\b\b\b\b\b\b\b\b\b\b\b\b\b\b\b\b\b\b\b\b\b\b\b\b\b\b\b\b\b\b\b\b\b\b\b\b\b\bstep: 17 of 19\b\b\b\b\b\b\b\b\b\b\b\b\b\b\b\b\b\b\b\b\b\b\b\b\b\b\b\b\b\b\b\b\b\b\b\b\b\b\b\bstep: 18 of 19\b\b\b\b\b\b\b\b\b\b\b\b\b\b\b\b\b\b\b\b\b\b\b\b\b\b\b\b\b\b\b\b\b\b\b\b\b\b\b\bstep: 19 of 19\b\b\b\b\b\b\b\b\b\b\b\b\b\b\b\b\b\b\b\b\b\b\b\b\b\b\b\b\b\b\b\b\b\b\b\b\b\b\b\bdone\n",
      "saving data file...\n",
      "saving svg file...\n"
     ]
    }
   ],
   "source": [
    "%%bash\n",
    "cd examples/ex2/\n",
    "python ../../dp.py -c ex2a.cfg\n",
    "convert b1.svg b1.png  # convert to png to be able to display it in Jupyter at Github"
   ]
  },
  {
   "cell_type": "markdown",
   "metadata": {},
   "source": [
    "![ex2](opt/DeformationProfile/examples/ex2/b1.png)"
   ]
  },
  {
   "cell_type": "code",
   "execution_count": 42,
   "metadata": {
    "scrolled": false
   },
   "outputs": [
    {
     "name": "stdout",
     "output_type": "stream",
     "text": [
      "- - - - - - - - - - - - - - - - - - - - - - - - - - - - - - \n",
      "reference:    a.pdb\n",
      "comparing:    b.pdb\n",
      "\n",
      "ref id:       201 202 203 204 205 206 207 208 209   0   1   2   3   4   5   6   7   8   9  10 \n",
      "cmp id:         1   2   3   4   5   6   7   8   9  10  11  12  13  14  15  16  17  18  19  20 \n",
      "\n",
      "ref chain:      B   B   B   B   B   B   B   B   B   B   B   B   B   B   B   B   B   B   B   B \n",
      "cmp chain:      A   A   A   A   A   A   A   A   A   A   A   A   A   A   A   A   A   A   A   A \n",
      "ref residues:   G   G   A   C   U   A   G   C   G   G   A   G   G   C   U   A   G   U   C   C \n",
      "cmp residues:   G   G   A   C   U   A   G   C   G   G   A   G   G   C   U   A   G   U   C   C \n",
      "align. index:   0   1   2   3   4   5   6   7   8   9  10  11  12  13  14  15  16  17  18  19 \n",
      "- - - - - - - - - - - - - - - - - - - - - - - - - - - - - - \n",
      "out_dir = \".\"\n",
      "\n",
      "ref_model = (\"a.pdb\", 0)\n",
      "cmp_model = [(\"b.pdb\", 0)]\n",
      "\n",
      "aligns = [(\"B\", 201, \"A\", 1, 9), (\"B\", 0, \"A\", 10, 11)]\n"
     ]
    },
    {
     "name": "stderr",
     "output_type": "stream",
     "text": [
      "opening reference file: 'a.pdb'\n",
      "opening comparing file: 'b.pdb'\n",
      "comparing models...\n",
      "\b\b\b\b\b\b\b\b\b\b\b\b\b\b\b\b\b\b\b\b\b\b\b\b\b\b\b\b\b\b\b\b\b\b\b\b\b\b\b\bstep: 0 of 19\b\b\b\b\b\b\b\b\b\b\b\b\b\b\b\b\b\b\b\b\b\b\b\b\b\b\b\b\b\b\b\b\b\b\b\b\b\b\b\bstep: 1 of 19\b\b\b\b\b\b\b\b\b\b\b\b\b\b\b\b\b\b\b\b\b\b\b\b\b\b\b\b\b\b\b\b\b\b\b\b\b\b\b\bstep: 2 of 19\b\b\b\b\b\b\b\b\b\b\b\b\b\b\b\b\b\b\b\b\b\b\b\b\b\b\b\b\b\b\b\b\b\b\b\b\b\b\b\bstep: 3 of 19\b\b\b\b\b\b\b\b\b\b\b\b\b\b\b\b\b\b\b\b\b\b\b\b\b\b\b\b\b\b\b\b\b\b\b\b\b\b\b\bstep: 4 of 19\b\b\b\b\b\b\b\b\b\b\b\b\b\b\b\b\b\b\b\b\b\b\b\b\b\b\b\b\b\b\b\b\b\b\b\b\b\b\b\bstep: 5 of 19\b\b\b\b\b\b\b\b\b\b\b\b\b\b\b\b\b\b\b\b\b\b\b\b\b\b\b\b\b\b\b\b\b\b\b\b\b\b\b\bstep: 6 of 19\b\b\b\b\b\b\b\b\b\b\b\b\b\b\b\b\b\b\b\b\b\b\b\b\b\b\b\b\b\b\b\b\b\b\b\b\b\b\b\bstep: 7 of 19\b\b\b\b\b\b\b\b\b\b\b\b\b\b\b\b\b\b\b\b\b\b\b\b\b\b\b\b\b\b\b\b\b\b\b\b\b\b\b\bstep: 8 of 19\b\b\b\b\b\b\b\b\b\b\b\b\b\b\b\b\b\b\b\b\b\b\b\b\b\b\b\b\b\b\b\b\b\b\b\b\b\b\b\bstep: 9 of 19\b\b\b\b\b\b\b\b\b\b\b\b\b\b\b\b\b\b\b\b\b\b\b\b\b\b\b\b\b\b\b\b\b\b\b\b\b\b\b\bstep: 10 of 19\b\b\b\b\b\b\b\b\b\b\b\b\b\b\b\b\b\b\b\b\b\b\b\b\b\b\b\b\b\b\b\b\b\b\b\b\b\b\b\bstep: 11 of 19\b\b\b\b\b\b\b\b\b\b\b\b\b\b\b\b\b\b\b\b\b\b\b\b\b\b\b\b\b\b\b\b\b\b\b\b\b\b\b\bstep: 12 of 19\b\b\b\b\b\b\b\b\b\b\b\b\b\b\b\b\b\b\b\b\b\b\b\b\b\b\b\b\b\b\b\b\b\b\b\b\b\b\b\bstep: 13 of 19\b\b\b\b\b\b\b\b\b\b\b\b\b\b\b\b\b\b\b\b\b\b\b\b\b\b\b\b\b\b\b\b\b\b\b\b\b\b\b\bstep: 14 of 19\b\b\b\b\b\b\b\b\b\b\b\b\b\b\b\b\b\b\b\b\b\b\b\b\b\b\b\b\b\b\b\b\b\b\b\b\b\b\b\bstep: 15 of 19\b\b\b\b\b\b\b\b\b\b\b\b\b\b\b\b\b\b\b\b\b\b\b\b\b\b\b\b\b\b\b\b\b\b\b\b\b\b\b\bstep: 16 of 19\b\b\b\b\b\b\b\b\b\b\b\b\b\b\b\b\b\b\b\b\b\b\b\b\b\b\b\b\b\b\b\b\b\b\b\b\b\b\b\bstep: 17 of 19\b\b\b\b\b\b\b\b\b\b\b\b\b\b\b\b\b\b\b\b\b\b\b\b\b\b\b\b\b\b\b\b\b\b\b\b\b\b\b\bstep: 18 of 19\b\b\b\b\b\b\b\b\b\b\b\b\b\b\b\b\b\b\b\b\b\b\b\b\b\b\b\b\b\b\b\b\b\b\b\b\b\b\b\bstep: 19 of 19\b\b\b\b\b\b\b\b\b\b\b\b\b\b\b\b\b\b\b\b\b\b\b\b\b\b\b\b\b\b\b\b\b\b\b\b\b\b\b\bdone\n",
      "saving data file...\n",
      "saving svg file...\n"
     ]
    }
   ],
   "source": [
    "%%bash\n",
    "cd examples/ex3/\n",
    "python ../../dp.py -c ex3.cfg\n",
    "cat ex3.cfg\n",
    "convert b.svg b.png  # convert to png to be able to display it in Jupyter at Github"
   ]
  },
  {
   "cell_type": "markdown",
   "metadata": {},
   "source": [
    "![ex3](opt/DeformationProfile/examples/ex3/b.png)"
   ]
  },
  {
   "cell_type": "code",
   "execution_count": 43,
   "metadata": {},
   "outputs": [
    {
     "name": "stdout",
     "output_type": "stream",
     "text": [
      "- - - - - - - - - - - - - - - - - - - - - - - - - - - - - - \n",
      "reference:    a.pdb\n",
      "comparing:    b.pdb\n",
      "\n",
      "ref id:       201 202 203 204 205 206 207 208 209 210 211 212 213 214 215 216 217 218 219 220 \n",
      "cmp id:       201 202 203 204 205 206 207 208 209 210 211 212 213 214 215 216 217 218 219 220 \n",
      "\n",
      "ref chain:      B   B   B   B   B   B   B   B   B   B   B   B   B   B   B   B   B   B   B   B \n",
      "cmp chain:      B   B   B   B   B   B   B   B   B   B   B   B   B   B   B   B   B   B   B   B \n",
      "ref residues:   G   G   A   C   U   A   G   C   G   G   A   G   G   C   U   A   G   U   C   C \n",
      "cmp residues:   G   G   A   C   U   A   G   C   G   G   A   G   G   C   U   A   G   U   C   C \n",
      "align. index:   0   1   2   3   4   5   6   7   8   9  10  11  12  13  14  15  16  17  18  19 \n",
      "- - - - - - - - - - - - - - - - - - - - - - - - - - - - - - \n",
      "out_dir = \".\"\n",
      "\n",
      "ref_model = (\"a.pdb\", 0)\n",
      "cmp_model = [(\"b.pdb\", 0)]\n",
      "\n",
      "aligns = [(\"B\", 201, \"B\", 201, 20)]\n",
      "\n",
      "helices = [(\"H1\", 2, 3, 7, 2),\n",
      "           (\"H2\", 12, 2, 16, 2)]\n",
      " \n",
      "loops = [(\"L1\", 0, 2), (\"L2\", 5, 2), (\"L3\", 9, 3), (\"L4\", 14, 2), (\"L5\", 18, 2)]\n",
      "\n",
      "draw = [\"H1\", \"H2\", \"L1\", \"L3\", \"L1\", \"L2\", \"L3\", \"L4\", \"L5\"]\n"
     ]
    },
    {
     "name": "stderr",
     "output_type": "stream",
     "text": [
      "opening reference file: 'a.pdb'\n",
      "opening comparing file: 'b.pdb'\n",
      "comparing models...\n",
      "\b\b\b\b\b\b\b\b\b\b\b\b\b\b\b\b\b\b\b\b\b\b\b\b\b\b\b\b\b\b\b\b\b\b\b\b\b\b\b\bstep: 0 of 19\b\b\b\b\b\b\b\b\b\b\b\b\b\b\b\b\b\b\b\b\b\b\b\b\b\b\b\b\b\b\b\b\b\b\b\b\b\b\b\bstep: 1 of 19\b\b\b\b\b\b\b\b\b\b\b\b\b\b\b\b\b\b\b\b\b\b\b\b\b\b\b\b\b\b\b\b\b\b\b\b\b\b\b\bstep: 2 of 19\b\b\b\b\b\b\b\b\b\b\b\b\b\b\b\b\b\b\b\b\b\b\b\b\b\b\b\b\b\b\b\b\b\b\b\b\b\b\b\bstep: 3 of 19\b\b\b\b\b\b\b\b\b\b\b\b\b\b\b\b\b\b\b\b\b\b\b\b\b\b\b\b\b\b\b\b\b\b\b\b\b\b\b\bstep: 4 of 19\b\b\b\b\b\b\b\b\b\b\b\b\b\b\b\b\b\b\b\b\b\b\b\b\b\b\b\b\b\b\b\b\b\b\b\b\b\b\b\bstep: 5 of 19\b\b\b\b\b\b\b\b\b\b\b\b\b\b\b\b\b\b\b\b\b\b\b\b\b\b\b\b\b\b\b\b\b\b\b\b\b\b\b\bstep: 6 of 19\b\b\b\b\b\b\b\b\b\b\b\b\b\b\b\b\b\b\b\b\b\b\b\b\b\b\b\b\b\b\b\b\b\b\b\b\b\b\b\bstep: 7 of 19\b\b\b\b\b\b\b\b\b\b\b\b\b\b\b\b\b\b\b\b\b\b\b\b\b\b\b\b\b\b\b\b\b\b\b\b\b\b\b\bstep: 8 of 19\b\b\b\b\b\b\b\b\b\b\b\b\b\b\b\b\b\b\b\b\b\b\b\b\b\b\b\b\b\b\b\b\b\b\b\b\b\b\b\bstep: 9 of 19\b\b\b\b\b\b\b\b\b\b\b\b\b\b\b\b\b\b\b\b\b\b\b\b\b\b\b\b\b\b\b\b\b\b\b\b\b\b\b\bstep: 10 of 19\b\b\b\b\b\b\b\b\b\b\b\b\b\b\b\b\b\b\b\b\b\b\b\b\b\b\b\b\b\b\b\b\b\b\b\b\b\b\b\bstep: 11 of 19\b\b\b\b\b\b\b\b\b\b\b\b\b\b\b\b\b\b\b\b\b\b\b\b\b\b\b\b\b\b\b\b\b\b\b\b\b\b\b\bstep: 12 of 19\b\b\b\b\b\b\b\b\b\b\b\b\b\b\b\b\b\b\b\b\b\b\b\b\b\b\b\b\b\b\b\b\b\b\b\b\b\b\b\bstep: 13 of 19\b\b\b\b\b\b\b\b\b\b\b\b\b\b\b\b\b\b\b\b\b\b\b\b\b\b\b\b\b\b\b\b\b\b\b\b\b\b\b\bstep: 14 of 19\b\b\b\b\b\b\b\b\b\b\b\b\b\b\b\b\b\b\b\b\b\b\b\b\b\b\b\b\b\b\b\b\b\b\b\b\b\b\b\bstep: 15 of 19\b\b\b\b\b\b\b\b\b\b\b\b\b\b\b\b\b\b\b\b\b\b\b\b\b\b\b\b\b\b\b\b\b\b\b\b\b\b\b\bstep: 16 of 19\b\b\b\b\b\b\b\b\b\b\b\b\b\b\b\b\b\b\b\b\b\b\b\b\b\b\b\b\b\b\b\b\b\b\b\b\b\b\b\bstep: 17 of 19\b\b\b\b\b\b\b\b\b\b\b\b\b\b\b\b\b\b\b\b\b\b\b\b\b\b\b\b\b\b\b\b\b\b\b\b\b\b\b\bstep: 18 of 19\b\b\b\b\b\b\b\b\b\b\b\b\b\b\b\b\b\b\b\b\b\b\b\b\b\b\b\b\b\b\b\b\b\b\b\b\b\b\b\bstep: 19 of 19\b\b\b\b\b\b\b\b\b\b\b\b\b\b\b\b\b\b\b\b\b\b\b\b\b\b\b\b\b\b\b\b\b\b\b\b\b\b\b\bdone\n",
      "saving data file...\n",
      "saving svg file...\n"
     ]
    }
   ],
   "source": [
    "%%bash\n",
    "cd examples/ex4/\n",
    "python ../../dp.py -c ex4a.cfg\n",
    "cat ex4a.cfg\n",
    "convert b.svg b.png  # convert to png to be able to display it in Jupyter at Github"
   ]
  },
  {
   "cell_type": "markdown",
   "metadata": {},
   "source": [
    "![ex4-1](opt/DeformationProfile/examples/ex4/b.png)"
   ]
  },
  {
   "cell_type": "code",
   "execution_count": 27,
   "metadata": {},
   "outputs": [
    {
     "name": "stdout",
     "output_type": "stream",
     "text": [
      "- - - - - - - - - - - - - - - - - - - - - - - - - - - - - - \n",
      "reference:    a.pdb\n",
      "comparing:    b.pdb\n",
      "\n",
      "ref id:       201 202 203 204 205 206 207 208 209 210 211 212 213 214 215 216 217 218 219 220 \n",
      "cmp id:       201 202 203 204 205 206 207 208 209 210 211 212 213 214 215 216 217 218 219 220 \n",
      "\n",
      "ref chain:      B   B   B   B   B   B   B   B   B   B   B   B   B   B   B   B   B   B   B   B \n",
      "cmp chain:      B   B   B   B   B   B   B   B   B   B   B   B   B   B   B   B   B   B   B   B \n",
      "ref residues:   G   G   A   C   U   A   G   C   G   G   A   G   G   C   U   A   G   U   C   C \n",
      "cmp residues:   G   G   A   C   U   A   G   C   G   G   A   G   G   C   U   A   G   U   C   C \n",
      "align. index:   0   1   2   3   4   5   6   7   8   9  10  11  12  13  14  15  16  17  18  19 \n",
      "- - - - - - - - - - - - - - - - - - - - - - - - - - - - - - \n"
     ]
    },
    {
     "name": "stderr",
     "output_type": "stream",
     "text": [
      "opening reference file: 'a.pdb'\n",
      "opening comparing file: 'b.pdb'\n",
      "comparing models...\n",
      "\b\b\b\b\b\b\b\b\b\b\b\b\b\b\b\b\b\b\b\b\b\b\b\b\b\b\b\b\b\b\b\b\b\b\b\b\b\b\b\bstep: 0 of 19\b\b\b\b\b\b\b\b\b\b\b\b\b\b\b\b\b\b\b\b\b\b\b\b\b\b\b\b\b\b\b\b\b\b\b\b\b\b\b\bstep: 1 of 19\b\b\b\b\b\b\b\b\b\b\b\b\b\b\b\b\b\b\b\b\b\b\b\b\b\b\b\b\b\b\b\b\b\b\b\b\b\b\b\bstep: 2 of 19\b\b\b\b\b\b\b\b\b\b\b\b\b\b\b\b\b\b\b\b\b\b\b\b\b\b\b\b\b\b\b\b\b\b\b\b\b\b\b\bstep: 3 of 19\b\b\b\b\b\b\b\b\b\b\b\b\b\b\b\b\b\b\b\b\b\b\b\b\b\b\b\b\b\b\b\b\b\b\b\b\b\b\b\bstep: 4 of 19\b\b\b\b\b\b\b\b\b\b\b\b\b\b\b\b\b\b\b\b\b\b\b\b\b\b\b\b\b\b\b\b\b\b\b\b\b\b\b\bstep: 5 of 19\b\b\b\b\b\b\b\b\b\b\b\b\b\b\b\b\b\b\b\b\b\b\b\b\b\b\b\b\b\b\b\b\b\b\b\b\b\b\b\bstep: 6 of 19\b\b\b\b\b\b\b\b\b\b\b\b\b\b\b\b\b\b\b\b\b\b\b\b\b\b\b\b\b\b\b\b\b\b\b\b\b\b\b\bstep: 7 of 19\b\b\b\b\b\b\b\b\b\b\b\b\b\b\b\b\b\b\b\b\b\b\b\b\b\b\b\b\b\b\b\b\b\b\b\b\b\b\b\bstep: 8 of 19\b\b\b\b\b\b\b\b\b\b\b\b\b\b\b\b\b\b\b\b\b\b\b\b\b\b\b\b\b\b\b\b\b\b\b\b\b\b\b\bstep: 9 of 19\b\b\b\b\b\b\b\b\b\b\b\b\b\b\b\b\b\b\b\b\b\b\b\b\b\b\b\b\b\b\b\b\b\b\b\b\b\b\b\bstep: 10 of 19\b\b\b\b\b\b\b\b\b\b\b\b\b\b\b\b\b\b\b\b\b\b\b\b\b\b\b\b\b\b\b\b\b\b\b\b\b\b\b\bstep: 11 of 19\b\b\b\b\b\b\b\b\b\b\b\b\b\b\b\b\b\b\b\b\b\b\b\b\b\b\b\b\b\b\b\b\b\b\b\b\b\b\b\bstep: 12 of 19\b\b\b\b\b\b\b\b\b\b\b\b\b\b\b\b\b\b\b\b\b\b\b\b\b\b\b\b\b\b\b\b\b\b\b\b\b\b\b\bstep: 13 of 19\b\b\b\b\b\b\b\b\b\b\b\b\b\b\b\b\b\b\b\b\b\b\b\b\b\b\b\b\b\b\b\b\b\b\b\b\b\b\b\bstep: 14 of 19\b\b\b\b\b\b\b\b\b\b\b\b\b\b\b\b\b\b\b\b\b\b\b\b\b\b\b\b\b\b\b\b\b\b\b\b\b\b\b\bstep: 15 of 19\b\b\b\b\b\b\b\b\b\b\b\b\b\b\b\b\b\b\b\b\b\b\b\b\b\b\b\b\b\b\b\b\b\b\b\b\b\b\b\bstep: 16 of 19\b\b\b\b\b\b\b\b\b\b\b\b\b\b\b\b\b\b\b\b\b\b\b\b\b\b\b\b\b\b\b\b\b\b\b\b\b\b\b\bstep: 17 of 19\b\b\b\b\b\b\b\b\b\b\b\b\b\b\b\b\b\b\b\b\b\b\b\b\b\b\b\b\b\b\b\b\b\b\b\b\b\b\b\bstep: 18 of 19\b\b\b\b\b\b\b\b\b\b\b\b\b\b\b\b\b\b\b\b\b\b\b\b\b\b\b\b\b\b\b\b\b\b\b\b\b\b\b\bstep: 19 of 19\b\b\b\b\b\b\b\b\b\b\b\b\b\b\b\b\b\b\b\b\b\b\b\b\b\b\b\b\b\b\b\b\b\b\b\b\b\b\b\bdone\n",
      "saving data file...\n",
      "saving svg file...\n"
     ]
    }
   ],
   "source": [
    "%%bash\n",
    "cd examples/ex4/\n",
    "python ../../dp.py -c ex4b.cfg\n",
    "convert b.svg b.png  # convert to png to be able to display it in Jupyter at Github"
   ]
  },
  {
   "cell_type": "markdown",
   "metadata": {},
   "source": [
    "![ex4-2](opt/DeformationProfile/examples/ex4/b.png)"
   ]
  },
  {
   "cell_type": "markdown",
   "metadata": {},
   "source": [
    "# mcq-cli"
   ]
  },
  {
   "cell_type": "markdown",
   "metadata": {},
   "source": [
    "[MCQ (Mean of Circular Quantities)](https://github.com/tzok/mcq4structures) has been first presented in the paper “MCQ4Structures to compute similarity of molecule structures” by Zok et al. (Central European Journal of Operations Research, 2014;22(3):457-474. doi: 10.1007/s10100-013-0296-5).\n",
    "\n",
    "[LCS-TA (Longest Continuous Segments in Torsion Angle space)](https://github.com/tzok/mcq4structures) applies a measure first described in the paper “LCS-TA to identify similar fragments in RNA 3D structures” by Wiedemann et al. (BMC Bioinformatics, 2017;18(1):456. doi: 10.1186/s12859-017-1867-6). A full implementation of both methods can be found on github, maintained by Zok and Wiedemann.\n",
    "\n",
    "Most important features of both methods / measures:\n",
    "\n",
    "- MCQ\n",
    "    - The method applies to a pair of 3D structures and is size independent.\n",
    "    - It can be used for a set of structures in all-against-all or all-against-target mode.\n",
    "    - It translates typical algebraic representation of a 3D structure into the trigonometric one (a set of torsion angles).\n",
    "    - It computes the distance between structures in torsion angle space.\n",
    "    - The distance is measured as mean of local distances between the corresponding angles, and provided in degrees.\n",
    "    - The measure is sequence independent.\n",
    "\n",
    "- LCS-TA\n",
    "    - The method applies to a pair of 3D structures and is size independent.\n",
    "    - It uses MCQ-based measure for structure comparison.\n",
    "    - Within the compared structures, it finds the longest continuous segments which display similarity in torsion angle space.\n",
    "    - Two segments are considered similar if their MCQ is below predefined threshold.\n",
    "    - The method provides segment length and its position in the structure.\n",
    "    - The length of the longest continuous segment is a measure of similarity of two structures.\n",
    "    - The method can be run in sequence dependent or sequence independent mode.\n",
    "\n",
    "MCQ is maintained by Zok, while LCS-TA is maintained by Wiedemann"
   ]
  },
  {
   "cell_type": "code",
   "execution_count": 27,
   "metadata": {
    "collapsed": true
   },
   "outputs": [],
   "source": [
    "def dcmd(cmd):\n",
    "    import subprocess\n",
    "    dcmd = \"docker exec -i toolkit \" + cmd\n",
    "    o = subprocess.Popen(\n",
    "        dcmd, shell=True, stdout=subprocess.PIPE, stderr=subprocess.PIPE)\n",
    "    out = o.stdout.read().strip().decode()\n",
    "    err = o.stderr.read().strip().decode()\n",
    "    print 'dcmd:', dcmd\n",
    "    for l in out.split('\\n'):\n",
    "        print(l)\n",
    "    return out, err"
   ]
  },
  {
   "cell_type": "code",
   "execution_count": null,
   "metadata": {
    "collapsed": true
   },
   "outputs": [],
   "source": [
    "def dcp(source, target):\n",
    "    import subprocess\n",
    "    dcmd = \"docker exec -i toolkit \" + cmd\n",
    "    o = subprocess.Popen(\n",
    "        dcmd, shell=True, stdout=subprocess.PIPE, stderr=subprocess.PIPE)\n",
    "    out = o.stdout.read().strip().decode()\n",
    "    err = o.stderr.read().strip().decode()\n",
    "    print 'dcmd:', dcmd\n",
    "    for l in out.split('\\n'):\n",
    "        print(l)\n",
    "    return out, err"
   ]
  },
  {
   "cell_type": "code",
   "execution_count": 30,
   "metadata": {
    "collapsed": true
   },
   "outputs": [],
   "source": [
    "def exe(cmd):\n",
    "    import subprocess\n",
    "    o = subprocess.Popen(\n",
    "        cmd, shell=True, stdout=subprocess.PIPE, stderr=subprocess.PIPE)\n",
    "    out = o.stdout.read().strip().decode()\n",
    "    err = o.stderr.read().strip().decode()\n",
    "    print 'cmd:', cmd\n",
    "    return out, err"
   ]
  },
  {
   "cell_type": "markdown",
   "metadata": {},
   "source": [
    "Copy some demo files to your Docker image."
   ]
  },
  {
   "cell_type": "code",
   "execution_count": 20,
   "metadata": {},
   "outputs": [
    {
     "name": "stdout",
     "output_type": "stream",
     "text": [
      "/Users/magnus/work-src/RNA-Puzzles-toolkit-overview\n",
      "See if the file are at the Docker image:\n"
     ]
    },
    {
     "name": "stderr",
     "output_type": "stream",
     "text": [
      "bash: line 5: syntax error near unexpected token `\"/bin/ls -l .\"'\n",
      "bash: line 5: `dcmd(\"/bin/ls -l .\")'\n"
     ]
    }
   ],
   "source": [
    "%%bash \n",
    "pwd\n",
    "# Start the Docker images\n",
    "docker cp example/rp08 toolkit:/home/demo\n",
    "echo 'See if the file are at the Docker image:'\n",
    "dcmd(\"/bin/ls -l .\")\n",
    "echo 'Run mcq'\n",
    "echo 'done'\n",
    "pwd"
   ]
  },
  {
   "cell_type": "code",
   "execution_count": 29,
   "metadata": {},
   "outputs": [
    {
     "name": "stdout",
     "output_type": "stream",
     "text": [
      "dcmd: docker exec -i toolkit /bin/ls -l .\n",
      "total 8\n",
      "drwxr-xr-x 7 demo demo    4096 Oct 24  2018 rna-puzzles-toolkit\n",
      "drwxr-xr-x 2  502 dialout 4096 Aug  3 08:14 rp08\n"
     ]
    }
   ],
   "source": [
    "dcmd(\"/bin/ls -l .\");"
   ]
  },
  {
   "cell_type": "markdown",
   "metadata": {},
   "source": [
    "## Local"
   ]
  },
  {
   "cell_type": "code",
   "execution_count": 40,
   "metadata": {},
   "outputs": [
    {
     "name": "stdout",
     "output_type": "stream",
     "text": [
      "dcmd: docker exec -i toolkit /home/demo/rna-puzzles-toolkit/mcq-cli/local -m /home/demo/rp08/*.pdb -t /home/demo/rp08/8_0_solution_4L81_rpr.pdb\n",
      "Results are available in: /tmp/19ef1a5f-c30a-4237-8e3a-4002627e2977\n",
      "Your temp folder is /tmp/19ef1a5f-c30a-4237-8e3a-4002627e2977\n"
     ]
    }
   ],
   "source": [
    "out, err = dcmd(\"/home/demo/rna-puzzles-toolkit/mcq-cli/local -m /home/demo/rp08/*.pdb -t /home/demo/rp08/8_0_solution_4L81_rpr.pdb\")\n",
    "foo, tmp_dir = out.split('in: ')\n",
    "print(\"Your temp folder is %s\" % tmp_dir)"
   ]
  },
  {
   "cell_type": "markdown",
   "metadata": {},
   "source": [
    "Generate a plot based on the table."
   ]
  },
  {
   "cell_type": "code",
   "execution_count": 41,
   "metadata": {},
   "outputs": [
    {
     "name": "stdout",
     "output_type": "stream",
     "text": [
      "cmd: cd /tmp/19ef1a5f-c30a-4237-8e3a-4002627e2977 && ~/rna-puzzles-toolkit/mcq-cli/colorbars.R table.csv\n"
     ]
    },
    {
     "data": {
      "text/plain": [
       "(u'',\n",
       " u'/bin/sh: line 0: cd: /tmp/19ef1a5f-c30a-4237-8e3a-4002627e2977: No such file or directory')"
      ]
     },
     "execution_count": 41,
     "metadata": {},
     "output_type": "execute_result"
    }
   ],
   "source": [
    "cmd = \"cd \" + tmp_dir + \" && ~/rna-puzzles-toolkit/mcq-cli/colorbars.R table.csv\"\n",
    "dexe(cmd)"
   ]
  },
  {
   "cell_type": "code",
   "execution_count": 42,
   "metadata": {},
   "outputs": [
    {
     "name": "stdout",
     "output_type": "stream",
     "text": [
      "cmd: ls /tmp/19ef1a5f-c30a-4237-8e3a-4002627e2977\n",
      "\n"
     ]
    }
   ],
   "source": [
    "cmd = \"ls \" + tmp_dir\n",
    "out, err = exe(cmd)\n",
    "print(out)"
   ]
  },
  {
   "cell_type": "markdown",
   "metadata": {},
   "source": [
    "Copy the results to your local temp."
   ]
  },
  {
   "cell_type": "code",
   "execution_count": 33,
   "metadata": {},
   "outputs": [],
   "source": [
    "cmd = \"docker cp 306468777bc5:\" + tmp_dir + \" \" + tmp_dir\n",
    "out, err = exe(cmd)"
   ]
  },
  {
   "cell_type": "markdown",
   "metadata": {},
   "source": [
    "View the results using Pandas."
   ]
  },
  {
   "cell_type": "code",
   "execution_count": 34,
   "metadata": {},
   "outputs": [
    {
     "data": {
      "text/html": [
       "<div>\n",
       "<table border=\"1\" class=\"dataframe\">\n",
       "  <thead>\n",
       "    <tr style=\"text-align: right;\">\n",
       "      <th></th>\n",
       "      <th>Unnamed: 0</th>\n",
       "      <th>A.G1</th>\n",
       "      <th>A.G2</th>\n",
       "      <th>A.A3</th>\n",
       "      <th>A.U4</th>\n",
       "      <th>A.C5</th>\n",
       "      <th>A.A6</th>\n",
       "      <th>A.C7</th>\n",
       "      <th>A.G8</th>\n",
       "      <th>A.A9</th>\n",
       "      <th>...</th>\n",
       "      <th>A.C87</th>\n",
       "      <th>A.G88</th>\n",
       "      <th>A.A89</th>\n",
       "      <th>A.A90</th>\n",
       "      <th>A.G91</th>\n",
       "      <th>A.U92</th>\n",
       "      <th>A.C93</th>\n",
       "      <th>A.C94</th>\n",
       "      <th>A.G95</th>\n",
       "      <th>A.U96</th>\n",
       "    </tr>\n",
       "  </thead>\n",
       "  <tbody>\n",
       "    <tr>\n",
       "      <th>0</th>\n",
       "      <td>NaN</td>\n",
       "      <td>(</td>\n",
       "      <td>(</td>\n",
       "      <td>(</td>\n",
       "      <td>(</td>\n",
       "      <td>(</td>\n",
       "      <td>.</td>\n",
       "      <td>.</td>\n",
       "      <td>.</td>\n",
       "      <td>.</td>\n",
       "      <td>...</td>\n",
       "      <td>.</td>\n",
       "      <td>.</td>\n",
       "      <td>.</td>\n",
       "      <td>.</td>\n",
       "      <td>.</td>\n",
       "      <td>]</td>\n",
       "      <td>]</td>\n",
       "      <td>]</td>\n",
       "      <td>]</td>\n",
       "      <td>.</td>\n",
       "    </tr>\n",
       "    <tr>\n",
       "      <th>1</th>\n",
       "      <td>8_0_solution_4L81_rpr.pdb</td>\n",
       "      <td>0.0</td>\n",
       "      <td>0.0</td>\n",
       "      <td>0.0</td>\n",
       "      <td>0.0</td>\n",
       "      <td>0.0</td>\n",
       "      <td>0.0</td>\n",
       "      <td>0.0</td>\n",
       "      <td>0.0</td>\n",
       "      <td>0.0</td>\n",
       "      <td>...</td>\n",
       "      <td>0.0</td>\n",
       "      <td>0.0</td>\n",
       "      <td>0.0</td>\n",
       "      <td>0.0</td>\n",
       "      <td>0.0</td>\n",
       "      <td>0.0</td>\n",
       "      <td>0.0</td>\n",
       "      <td>0.0</td>\n",
       "      <td>0.0</td>\n",
       "      <td>0.0</td>\n",
       "    </tr>\n",
       "    <tr>\n",
       "      <th>2</th>\n",
       "      <td>8_Adamiak_1_rpr.pdb</td>\n",
       "      <td>16.68564522434479</td>\n",
       "      <td>22.69366467776366</td>\n",
       "      <td>22.022963495138008</td>\n",
       "      <td>20.450122933750155</td>\n",
       "      <td>20.813500504510287</td>\n",
       "      <td>42.35071264396426</td>\n",
       "      <td>10.705782709288355</td>\n",
       "      <td>16.06105481275305</td>\n",
       "      <td>15.28764979068805</td>\n",
       "      <td>...</td>\n",
       "      <td>50.509133430052394</td>\n",
       "      <td>60.208433241929285</td>\n",
       "      <td>30.826802507223096</td>\n",
       "      <td>53.751882101897536</td>\n",
       "      <td>36.4113873639743</td>\n",
       "      <td>5.886841831985573</td>\n",
       "      <td>8.141432278654715</td>\n",
       "      <td>9.871436359547394</td>\n",
       "      <td>7.9859255164300995</td>\n",
       "      <td>56.39181170641735</td>\n",
       "    </tr>\n",
       "    <tr>\n",
       "      <th>3</th>\n",
       "      <td>8_Bujnicki_1_rpr.pdb</td>\n",
       "      <td>4.46661653683649</td>\n",
       "      <td>8.296126074169262</td>\n",
       "      <td>3.0883714410687357</td>\n",
       "      <td>3.832897489327384</td>\n",
       "      <td>11.9244083321012</td>\n",
       "      <td>45.78119098364954</td>\n",
       "      <td>10.908544511346298</td>\n",
       "      <td>3.171883232199785</td>\n",
       "      <td>21.072381586316315</td>\n",
       "      <td>...</td>\n",
       "      <td>12.979873275769616</td>\n",
       "      <td>56.99594261752131</td>\n",
       "      <td>11.421300797203184</td>\n",
       "      <td>13.132582246976972</td>\n",
       "      <td>63.51613127014131</td>\n",
       "      <td>6.959423692401461</td>\n",
       "      <td>9.818294526656931</td>\n",
       "      <td>10.166187878586289</td>\n",
       "      <td>8.359020863027505</td>\n",
       "      <td>60.99713962662688</td>\n",
       "    </tr>\n",
       "    <tr>\n",
       "      <th>4</th>\n",
       "      <td>8_Chen_1_rpr.pdb</td>\n",
       "      <td>7.339443739479315</td>\n",
       "      <td>4.9335270928234465</td>\n",
       "      <td>6.276806074051467</td>\n",
       "      <td>16.549198052577342</td>\n",
       "      <td>21.76841111126895</td>\n",
       "      <td>41.43333240906841</td>\n",
       "      <td>35.30324277000026</td>\n",
       "      <td>17.651787104701786</td>\n",
       "      <td>11.214206061361551</td>\n",
       "      <td>...</td>\n",
       "      <td>53.22028883380143</td>\n",
       "      <td>55.700285597046204</td>\n",
       "      <td>45.599330775241924</td>\n",
       "      <td>50.40367144526355</td>\n",
       "      <td>60.281524910922016</td>\n",
       "      <td>13.405305533465485</td>\n",
       "      <td>12.32667580817362</td>\n",
       "      <td>29.61409097702931</td>\n",
       "      <td>15.696407062244749</td>\n",
       "      <td>64.50515866451012</td>\n",
       "    </tr>\n",
       "    <tr>\n",
       "      <th>5</th>\n",
       "      <td>8_Das_1_rpr.pdb</td>\n",
       "      <td>9.04419344666547</td>\n",
       "      <td>6.744684044697129</td>\n",
       "      <td>7.598340702152499</td>\n",
       "      <td>3.6780363683021777</td>\n",
       "      <td>12.884812308851057</td>\n",
       "      <td>45.23151884757914</td>\n",
       "      <td>9.080266993711152</td>\n",
       "      <td>9.298553931272988</td>\n",
       "      <td>18.842303627571443</td>\n",
       "      <td>...</td>\n",
       "      <td>10.143459302657236</td>\n",
       "      <td>76.41643374374317</td>\n",
       "      <td>34.78317160937809</td>\n",
       "      <td>63.72523057306641</td>\n",
       "      <td>102.6270050916746</td>\n",
       "      <td>5.605754183433453</td>\n",
       "      <td>5.940621910130991</td>\n",
       "      <td>6.150863525147054</td>\n",
       "      <td>11.11009855690199</td>\n",
       "      <td>17.2305199777775</td>\n",
       "    </tr>\n",
       "    <tr>\n",
       "      <th>6</th>\n",
       "      <td>8_Ding_1_rpr.pdb</td>\n",
       "      <td>9.803135804764604</td>\n",
       "      <td>28.576076647624433</td>\n",
       "      <td>8.621598612838921</td>\n",
       "      <td>7.800214349428456</td>\n",
       "      <td>10.386463614120192</td>\n",
       "      <td>62.56400202642052</td>\n",
       "      <td>30.80048014672042</td>\n",
       "      <td>17.612786331702807</td>\n",
       "      <td>56.715535932161565</td>\n",
       "      <td>...</td>\n",
       "      <td>18.55291307320631</td>\n",
       "      <td>50.853432512837294</td>\n",
       "      <td>25.96929766268578</td>\n",
       "      <td>25.025413703651026</td>\n",
       "      <td>84.15218771412553</td>\n",
       "      <td>13.189922002100262</td>\n",
       "      <td>7.010393080569198</td>\n",
       "      <td>9.760015614269618</td>\n",
       "      <td>10.68274721324713</td>\n",
       "      <td>16.70983428763898</td>\n",
       "    </tr>\n",
       "    <tr>\n",
       "      <th>7</th>\n",
       "      <td>8_Dokholyan_1_rpr.pdb</td>\n",
       "      <td>22.77603716138169</td>\n",
       "      <td>9.41058135971418</td>\n",
       "      <td>12.403677643548</td>\n",
       "      <td>8.065675541478868</td>\n",
       "      <td>57.80025529253238</td>\n",
       "      <td>24.02666799746822</td>\n",
       "      <td>11.624957500726683</td>\n",
       "      <td>14.34219008608927</td>\n",
       "      <td>24.737171469407137</td>\n",
       "      <td>...</td>\n",
       "      <td>18.346660485189755</td>\n",
       "      <td>59.89944029337728</td>\n",
       "      <td>11.72254792973095</td>\n",
       "      <td>34.24986168074879</td>\n",
       "      <td>89.74683142537079</td>\n",
       "      <td>28.582160145964785</td>\n",
       "      <td>7.28548547833393</td>\n",
       "      <td>9.410056376249006</td>\n",
       "      <td>12.084197022929416</td>\n",
       "      <td>12.187869022444264</td>\n",
       "    </tr>\n",
       "  </tbody>\n",
       "</table>\n",
       "<p>8 rows × 97 columns</p>\n",
       "</div>"
      ],
      "text/plain": [
       "                  Unnamed: 0               A.G1                A.G2  \\\n",
       "0                        NaN                  (                   (   \n",
       "1  8_0_solution_4L81_rpr.pdb                0.0                 0.0   \n",
       "2        8_Adamiak_1_rpr.pdb  16.68564522434479   22.69366467776366   \n",
       "3       8_Bujnicki_1_rpr.pdb   4.46661653683649   8.296126074169262   \n",
       "4           8_Chen_1_rpr.pdb  7.339443739479315  4.9335270928234465   \n",
       "5            8_Das_1_rpr.pdb   9.04419344666547   6.744684044697129   \n",
       "6           8_Ding_1_rpr.pdb  9.803135804764604  28.576076647624433   \n",
       "7      8_Dokholyan_1_rpr.pdb  22.77603716138169    9.41058135971418   \n",
       "\n",
       "                 A.A3                A.U4                A.C5  \\\n",
       "0                   (                   (                   (   \n",
       "1                 0.0                 0.0                 0.0   \n",
       "2  22.022963495138008  20.450122933750155  20.813500504510287   \n",
       "3  3.0883714410687357   3.832897489327384    11.9244083321012   \n",
       "4   6.276806074051467  16.549198052577342   21.76841111126895   \n",
       "5   7.598340702152499  3.6780363683021777  12.884812308851057   \n",
       "6   8.621598612838921   7.800214349428456  10.386463614120192   \n",
       "7     12.403677643548   8.065675541478868   57.80025529253238   \n",
       "\n",
       "                A.A6                A.C7                A.G8  \\\n",
       "0                  .                   .                   .   \n",
       "1                0.0                 0.0                 0.0   \n",
       "2  42.35071264396426  10.705782709288355   16.06105481275305   \n",
       "3  45.78119098364954  10.908544511346298   3.171883232199785   \n",
       "4  41.43333240906841   35.30324277000026  17.651787104701786   \n",
       "5  45.23151884757914   9.080266993711152   9.298553931272988   \n",
       "6  62.56400202642052   30.80048014672042  17.612786331702807   \n",
       "7  24.02666799746822  11.624957500726683   14.34219008608927   \n",
       "\n",
       "                 A.A9         ...                       A.C87  \\\n",
       "0                   .         ...                           .   \n",
       "1                 0.0         ...                         0.0   \n",
       "2   15.28764979068805         ...          50.509133430052394   \n",
       "3  21.072381586316315         ...          12.979873275769616   \n",
       "4  11.214206061361551         ...           53.22028883380143   \n",
       "5  18.842303627571443         ...          10.143459302657236   \n",
       "6  56.715535932161565         ...           18.55291307320631   \n",
       "7  24.737171469407137         ...          18.346660485189755   \n",
       "\n",
       "                A.G88               A.A89               A.A90  \\\n",
       "0                   .                   .                   .   \n",
       "1                 0.0                 0.0                 0.0   \n",
       "2  60.208433241929285  30.826802507223096  53.751882101897536   \n",
       "3   56.99594261752131  11.421300797203184  13.132582246976972   \n",
       "4  55.700285597046204  45.599330775241924   50.40367144526355   \n",
       "5   76.41643374374317   34.78317160937809   63.72523057306641   \n",
       "6  50.853432512837294   25.96929766268578  25.025413703651026   \n",
       "7   59.89944029337728   11.72254792973095   34.24986168074879   \n",
       "\n",
       "                A.G91               A.U92              A.C93  \\\n",
       "0                   .                   ]                  ]   \n",
       "1                 0.0                 0.0                0.0   \n",
       "2    36.4113873639743   5.886841831985573  8.141432278654715   \n",
       "3   63.51613127014131   6.959423692401461  9.818294526656931   \n",
       "4  60.281524910922016  13.405305533465485  12.32667580817362   \n",
       "5   102.6270050916746   5.605754183433453  5.940621910130991   \n",
       "6   84.15218771412553  13.189922002100262  7.010393080569198   \n",
       "7   89.74683142537079  28.582160145964785   7.28548547833393   \n",
       "\n",
       "                A.C94               A.G95               A.U96  \n",
       "0                   ]                   ]                   .  \n",
       "1                 0.0                 0.0                 0.0  \n",
       "2   9.871436359547394  7.9859255164300995   56.39181170641735  \n",
       "3  10.166187878586289   8.359020863027505   60.99713962662688  \n",
       "4   29.61409097702931  15.696407062244749   64.50515866451012  \n",
       "5   6.150863525147054   11.11009855690199    17.2305199777775  \n",
       "6   9.760015614269618   10.68274721324713   16.70983428763898  \n",
       "7   9.410056376249006  12.084197022929416  12.187869022444264  \n",
       "\n",
       "[8 rows x 97 columns]"
      ]
     },
     "execution_count": 34,
     "metadata": {},
     "output_type": "execute_result"
    }
   ],
   "source": [
    "import pandas as pd\n",
    "table = pd.read_csv(tmp_dir + \"/table.csv\")\n",
    "table"
   ]
  },
  {
   "cell_type": "code",
   "execution_count": 39,
   "metadata": {},
   "outputs": [],
   "source": [
    "cmd = \"cp -v \" + tmp_dir +  \"/8_Bujnicki_1_rpr.pdb/delta.svg _sandbox_/detla.svg\"; \n",
    "exe(cmd)\n",
    "cmd = \"convert _sandbox_/detla.svg _sandbox_/detla.png\"; \n",
    "exe(cmd);"
   ]
  },
  {
   "cell_type": "markdown",
   "metadata": {},
   "source": [
    "![x]( _sandbox_/detla.svg)"
   ]
  },
  {
   "cell_type": "markdown",
   "metadata": {},
   "source": [
    "![x](colorbars.pdf)"
   ]
  },
  {
   "cell_type": "markdown",
   "metadata": {},
   "source": [
    "# rnaqua: A tool supporting quality assessment of RNA 3D structures"
   ]
  },
  {
   "cell_type": "markdown",
   "metadata": {},
   "source": [
    "[RNAQUA (RNA QUality Assessment)](https://github.com/mantczak/rnaqua) is a web service based wrapper of basic RNA comparison metrics. It is a RESTful web service client developed in Java. The tool provides a set of web services initially designed for RNAssess (Lukasiak et al., Nucleic Acids Research, 2015;43(W1):W502-W506. doi:10.1093/nar/gkv557) to support the quality assessment of RNA 3D structures. RNAQUA requires a stable release of JRE 7 (or later) installed on a user workstation with an internet access. Full implementation of the tool is stored on github and maintained by Antczak. The binaries and use cases can be downloaded from here. Most important features of RNAQUA:\n",
    "\n",
    "- At the input, a user provides RNA 3D structure(s) in PDB format.\n",
    "- Output data are returned in XML format.\n",
    "- RNAQUA allows to compute the following measures:\n",
    "    - ClashScore,\n",
    "    - Root-mean-square deviation (RMSD),\n",
    "    - Interaction network fidelity (INF),\n",
    "    - Deformation index (DI),\n",
    "    - P-value (either for entire RNA 3D structure(s) or for a set of discontinuous 3D substructures).\n",
    "- Two processing modes are available:\n",
    "    - An analysis of single RNA 3D structure (PDB validation, ClashScore, sequence-based analysis, structure unification),\n",
    "    - An analysis of RNA 3D model(s) with respect to the reference structure (RMSD, INF, DI, P-value, Deformation profile, sequence-based differences between structures, multiple models over the reference structure superposition).\n",
    "- Optionally, the user can define alignment between the reference structure and all corresponding RNA 3D model(s) which is helpful if there are differences in sequence, distribution of chains or residue numbering.\n",
    "\n",
    "This metric tool is maintained by Antczak.\n",
    "\n",
    "**DEMO**\n",
    "\n",
    "Run rnaqua using Docker."
   ]
  },
  {
   "cell_type": "code",
   "execution_count": 52,
   "metadata": {},
   "outputs": [],
   "source": [
    "docker_name = '306468777bc5'"
   ]
  },
  {
   "cell_type": "code",
   "execution_count": 59,
   "metadata": {},
   "outputs": [
    {
     "name": "stdout",
     "output_type": "stream",
     "text": [
      "cmd: docker exec -i 306468777bc5 /home/demo/rna-puzzles-toolkit/rnaqua-binary/bin/rnaqua.sh -h\n",
      "(u'OCI runtime exec failed: exec failed: container_linux.go:344: starting container process caused \"exec: \\\\\"/home/demo/rna-puzzles-toolkit/rnaqua-binary/bin/rnaqua.sh\\\\\": permission denied\": unknown', u'')\n"
     ]
    }
   ],
   "source": [
    "cmd = \"docker exec -i \" + docker_name + \" /home/demo/rna-puzzles-toolkit/rnaqua-binary/bin/rnaqua.sh -h\"\n",
    "print exe(cmd)"
   ]
  },
  {
   "cell_type": "markdown",
   "metadata": {},
   "source": [
    "## PDB-VALIDATION\n"
   ]
  },
  {
   "cell_type": "code",
   "execution_count": 20,
   "metadata": {},
   "outputs": [
    {
     "name": "stdout",
     "output_type": "stream",
     "text": [
      "13 Oct 2018 17:54:20 : Command: PDB-VALIDATION\n",
      "Base pairs identification tool: MC-ANNOTATE\n",
      "Consider atoms supported by RNA-Puzzles only: N\n",
      "Output file path: /tmp/validation.xml\n",
      "Multiple PDB models directory path: rna-puzzles-toolkit/rnaqua-binary/use-cases/SINGLE-STRUCTURE-ANALYSIS/PDB-VALIDATION/models/\n",
      "13 Oct 2018 17:54:21 : Command processed properly\n"
     ]
    }
   ],
   "source": [
    "%%bash \n",
    "docker exec -i rnapuzzles_toolkit_1 /home/demo/rna-puzzles-toolkit/rnaqua-binary/bin/rnaqua.sh \\\n",
    "--command PDB-VALIDATION \\\n",
    "--multiple-models-directory-path rna-puzzles-toolkit/rnaqua-binary/use-cases/SINGLE-STRUCTURE-ANALYSIS/PDB-VALIDATION/models/ \\\n",
    "--output-file-path /tmp/validation.xml\n",
    "docker exec -i rnapuzzles_toolkit_1 cat /tmp/validation.xml"
   ]
  },
  {
   "cell_type": "code",
   "execution_count": 21,
   "metadata": {},
   "outputs": [
    {
     "name": "stdout",
     "output_type": "stream",
     "text": [
      "<?xml version=\"1.0\" encoding=\"UTF-8\" standalone=\"yes\"?><descriptions><basics><filename>model.pdb</filename><errors><error>No. 5: Omitted record. Atom serial number is not integer (   A5). Residue sequence number is not integer ( 2A1). Unrecognized residue name (Z). X coordinate is not floating-point number (   2.A25). Y coordinate is not floating-point number ( -2A.462). Z coordinate is not floating-point number (  -3.A25).</error></errors></basics></descriptions>"
     ]
    }
   ],
   "source": [
    "%%bash\n",
    "docker exec -i rnapuzzles_toolkit_1 cat /tmp/validation.xml"
   ]
  },
  {
   "cell_type": "code",
   "execution_count": 25,
   "metadata": {},
   "outputs": [
    {
     "name": "stdout",
     "output_type": "stream",
     "text": [
      "13 Oct 2018 17:59:12 : Command: PDB-VALIDATION\n",
      "Base pairs identification tool: MC-ANNOTATE\n",
      "Consider atoms supported by RNA-Puzzles only: N\n",
      "Output file path: /tmp/validation.xml\n",
      "Single model PDB file path: rna-puzzles-toolkit/rnaqua-binary/use-cases/SINGLE-STRUCTURE-ANALYSIS/PDB-VALIDATION/models/model.pdb\n",
      "13 Oct 2018 17:59:12 : Command processed properly\n"
     ]
    }
   ],
   "source": [
    "%%bash\n",
    "docker exec -i rnapuzzles_toolkit_1 /home/demo/rna-puzzles-toolkit/rnaqua-binary/bin/rnaqua.sh \\\n",
    "--command PDB-VALIDATION \\\n",
    "--single-model-file-path rna-puzzles-toolkit/rnaqua-binary/use-cases/SINGLE-STRUCTURE-ANALYSIS/PDB-VALIDATION/models/model.pdb \\\n",
    "--output-file-path /tmp/validation.xml"
   ]
  },
  {
   "cell_type": "code",
   "execution_count": 30,
   "metadata": {},
   "outputs": [
    {
     "name": "stderr",
     "output_type": "stream",
     "text": [
      "Exception in thread \"main\" javax.ws.rs.ProcessingException: java.net.ConnectException: Connection refused (Connection refused)\n",
      "\tat org.glassfish.jersey.client.internal.HttpUrlConnector.apply(HttpUrlConnector.java:287)\n",
      "\tat org.glassfish.jersey.client.ClientRuntime.invoke(ClientRuntime.java:252)\n",
      "\tat org.glassfish.jersey.client.JerseyInvocation$2.call(JerseyInvocation.java:701)\n",
      "\tat org.glassfish.jersey.internal.Errors.process(Errors.java:315)\n",
      "\tat org.glassfish.jersey.internal.Errors.process(Errors.java:297)\n",
      "\tat org.glassfish.jersey.internal.Errors.process(Errors.java:228)\n",
      "\tat org.glassfish.jersey.process.internal.RequestScope.runInScope(RequestScope.java:444)\n",
      "\tat org.glassfish.jersey.client.JerseyInvocation.invoke(JerseyInvocation.java:697)\n",
      "\tat org.glassfish.jersey.client.JerseyInvocation$Builder.method(JerseyInvocation.java:420)\n",
      "\tat org.glassfish.jersey.client.JerseyInvocation$Builder.get(JerseyInvocation.java:316)\n",
      "\tat edu.put.ma.Assessment.getTemplates(Assessment.java:58)\n",
      "\tat edu.put.ma.Assessment.initTemplates(Assessment.java:53)\n",
      "\tat edu.put.ma.Assessment.<init>(Assessment.java:48)\n",
      "\tat edu.put.ma.Assessment.main(Assessment.java:89)\n",
      "Caused by: java.net.ConnectException: Connection refused (Connection refused)\n",
      "\tat java.net.PlainSocketImpl.socketConnect(Native Method)\n",
      "\tat java.net.AbstractPlainSocketImpl.doConnect(AbstractPlainSocketImpl.java:350)\n",
      "\tat java.net.AbstractPlainSocketImpl.connectToAddress(AbstractPlainSocketImpl.java:206)\n",
      "\tat java.net.AbstractPlainSocketImpl.connect(AbstractPlainSocketImpl.java:188)\n",
      "\tat java.net.SocksSocketImpl.connect(SocksSocketImpl.java:392)\n",
      "\tat java.net.Socket.connect(Socket.java:589)\n",
      "\tat sun.security.ssl.SSLSocketImpl.connect(SSLSocketImpl.java:673)\n",
      "\tat sun.net.NetworkClient.doConnect(NetworkClient.java:175)\n",
      "\tat sun.net.www.http.HttpClient.openServer(HttpClient.java:463)\n",
      "\tat sun.net.www.http.HttpClient.openServer(HttpClient.java:558)\n",
      "\tat sun.net.www.protocol.https.HttpsClient.<init>(HttpsClient.java:264)\n",
      "\tat sun.net.www.protocol.https.HttpsClient.New(HttpsClient.java:367)\n",
      "\tat sun.net.www.protocol.https.AbstractDelegateHttpsURLConnection.getNewHttpClient(AbstractDelegateHttpsURLConnection.java:191)\n",
      "\tat sun.net.www.protocol.http.HttpURLConnection.plainConnect0(HttpURLConnection.java:1156)\n",
      "\tat sun.net.www.protocol.http.HttpURLConnection.plainConnect(HttpURLConnection.java:1050)\n",
      "\tat sun.net.www.protocol.https.AbstractDelegateHttpsURLConnection.connect(AbstractDelegateHttpsURLConnection.java:177)\n",
      "\tat sun.net.www.protocol.http.HttpURLConnection.getInputStream0(HttpURLConnection.java:1564)\n",
      "\tat sun.net.www.protocol.http.HttpURLConnection.getInputStream(HttpURLConnection.java:1492)\n",
      "\tat java.net.HttpURLConnection.getResponseCode(HttpURLConnection.java:480)\n",
      "\tat sun.net.www.protocol.https.HttpsURLConnectionImpl.getResponseCode(HttpsURLConnectionImpl.java:347)\n",
      "\tat org.glassfish.jersey.client.internal.HttpUrlConnector._apply(HttpUrlConnector.java:399)\n",
      "\tat org.glassfish.jersey.client.internal.HttpUrlConnector.apply(HttpUrlConnector.java:285)\n",
      "\t... 13 more\n"
     ]
    }
   ],
   "source": [
    "%%bash\n",
    "CURRENT_DIR=\"/home/demo/rna-puzzles-toolkit/rnaqua-binary/use-cases/ANALYSIS-WITHIN-CONTEXT-OF-REFERENCE-STRUCTURE/SCORES/INTERACTION-NETWORK-FIDELITY-ALL\"\n",
    "docker exec -i rnapuzzles_toolkit_1 /home/demo/rna-puzzles-toolkit/rnaqua-binary/bin/rnaqua.sh \\\n",
    "--command INTERACTION-NETWORK-FIDELITY-ALL \\\n",
    "--reference-structure-file-path \"${CURRENT_DIR}/continuous-models/8_0_solution_4L81_rpr.pdb\" \\\n",
    "--multiple-models-directory-path \"${CURRENT_DIR}/continuous-models/models\" \\\n",
    "--output-file-path /tmp/14_ChenPostExp_1_rpr.xml\n",
    "docker exec -i rnapuzzles_toolkit_1 cat /tmp/14_ChenPostExp_1_rpr.xml"
   ]
  },
  {
   "cell_type": "markdown",
   "metadata": {},
   "source": [
    "## Clash Score"
   ]
  },
  {
   "cell_type": "markdown",
   "metadata": {},
   "source": [
    "    14_ChenPostExp_1_rpr.pdb:U_1,31|U_33,29"
   ]
  },
  {
   "cell_type": "code",
   "execution_count": 6,
   "metadata": {},
   "outputs": [
    {
     "name": "stdout",
     "output_type": "stream",
     "text": [
      "14 Oct 2018 17:38:19 : Command: CLASH-SCORE\n",
      "Alignment: 14_ChenPostExp_1_rpr.pdb:U_1_ ,31|U_33_ ,29\n",
      "Base pairs identification tool: MC-ANNOTATE\n",
      "Consider atoms supported by RNA-Puzzles only: N\n",
      "Output file path: /tmp/14_ChenPostExp_1_rpr.xml\n",
      "Single model PDB file path: rna-puzzles-toolkit/rnaqua-binary/use-cases/SINGLE-STRUCTURE-ANALYSIS/SCORES/CLASH-SCORE/incontinuous-models/14_ChenPostExp_1_rpr.pdb\n",
      "14 Oct 2018 17:38:30 : Command processed properly\n"
     ]
    }
   ],
   "source": [
    "%%bash\n",
    "CURRENT_DIR=\"rna-puzzles-toolkit/rnaqua-binary/use-cases/SINGLE-STRUCTURE-ANALYSIS/SCORES/CLASH-SCORE\"\n",
    "docker exec -i rnapuzzles_toolkit_1 /home/demo/rna-puzzles-toolkit/rnaqua-binary/bin/rnaqua.sh --command CLASH-SCORE --single-model-file-path \\\n",
    "\"${CURRENT_DIR}/incontinuous-models/14_ChenPostExp_1_rpr.pdb\" \\\n",
    "--alignment \"14_ChenPostExp_1_rpr.pdb:U_1,31|U_33,29\" --output-file-path /tmp/14_ChenPostExp_1_rpr.xml"
   ]
  },
  {
   "cell_type": "code",
   "execution_count": 7,
   "metadata": {},
   "outputs": [
    {
     "name": "stdout",
     "output_type": "stream",
     "text": [
      "<?xml version=\"1.0\" encoding=\"UTF-8\" standalone=\"yes\"?><measureScores><structure><description><filename>14_ChenPostExp_1_rpr.pdb</filename><errors/></description><score>2.06</score></structure></measureScores>"
     ]
    }
   ],
   "source": [
    "%%bash\n",
    "CURRENT_DIR=\"rna-puzzles-toolkit/rnaqua-binary/use-cases/SINGLE-STRUCTURE-ANALYSIS/SCORES/CLASH-SCORE\"\n",
    "docker exec -i rnapuzzles_toolkit_1 cat /tmp/14_ChenPostExp_1_rpr.xml\n",
    "#\n",
    "#<?xml version=\"1.0\" encoding=\"UTF-8\" standalone=\"yes\"?>\n",
    "#<measureScores><structure><description><filename>14_ChenPostExp_1_rpr.pdb</filename><errors/></description><score>2.06</score></structure></measureScores>\n",
    "#"
   ]
  },
  {
   "cell_type": "markdown",
   "metadata": {},
   "source": [
    "## Structure 3D"
   ]
  },
  {
   "cell_type": "markdown",
   "metadata": {},
   "source": [
    "**ORIGINAL-3D** and **RENUMERATED-3D**\n",
    "\n",
    "An extraction (**ORIGINAL-3D**) and unification (**RENUMERATED-3D**) of RNA 3D model(s) or a set of incontinuous 3D substructures specified by the user which are additionally superimposed over the corresponding 3D structure/substructures of the reference. At the output, ZIP archive including the coordinates of the reference structure as well as all considered RNA 3D model(s) is returned."
   ]
  },
  {
   "cell_type": "markdown",
   "metadata": {},
   "source": [
    "**Alignment**\n",
    "\n",
    "To ensure robustness of quality assessment process a user can specify the appropriate alignment (-a,--alignment) between the reference 3D structure and all analyzed RNA 3D model(s) which often differ slightly in sequence, distribution of chains or numbering of residues. \n",
    "\n",
    "An example of alignment prepared between the reference structure (solution.pdb) and a single RNA 3D model (model.pdb) is presented below. This alignment considers two incontinuous 3D substructures. Moreover, there is also incompatibility of chain id between compared 3D structures. \n",
    "\n",
    "Each substructure is described by id of its first residue [i.e., chain id + '_' + residue serial number + '_' + insertion code (if needed)] and length. To integrate many 3D substructures within a single alignment prepared for the particular RNA 3D structure(s) their descriptions are separated by '|'. Alignments prepared for the reference structure as well as the analyzed RNA 3D models combined into a single string are separated by ';'. Alignment prepared for the reference structure should be always included at the beginning of this string."
   ]
  },
  {
   "cell_type": "code",
   "execution_count": 3,
   "metadata": {},
   "outputs": [
    {
     "name": "stdout",
     "output_type": "stream",
     "text": [
      "14 Oct 2018 17:37:48 : Command: RENUMERATED-3D\n",
      "Alignment: 14_ChenPostExp_1_rpr.pdb:U_1_ ,31|U_33_ ,29\n",
      "Base pairs identification tool: MC-ANNOTATE\n",
      "Consider atoms supported by RNA-Puzzles only: N\n",
      "Output file path: /home/demo/14_ChenPostExp_1_rpr.zip\n",
      "Multiple PDB models directory path: rna-puzzles-toolkit/rnaqua-binary/use-cases/SINGLE-STRUCTURE-ANALYSIS/STRUCTURE-3D/RENUMERATED-3D//models\n",
      "14 Oct 2018 17:37:49 : Command processed properly\n"
     ]
    }
   ],
   "source": [
    "%%bash\n",
    "CURRENT_DIR=\"rna-puzzles-toolkit/rnaqua-binary/use-cases/SINGLE-STRUCTURE-ANALYSIS/STRUCTURE-3D/RENUMERATED-3D/\"\n",
    "docker exec -i rnapuzzles_toolkit_1 /home/demo/rna-puzzles-toolkit/rnaqua-binary/bin/rnaqua.sh \\\n",
    "--command RENUMERATED-3D \\\n",
    "--multiple-models-directory-path \"${CURRENT_DIR}/models\" \\\n",
    "--alignment \"14_ChenPostExp_1_rpr.pdb:U_1,31|U_33,29\" \\\n",
    "--output-file-path \"/home/demo/14_ChenPostExp_1_rpr.zip\""
   ]
  },
  {
   "cell_type": "markdown",
   "metadata": {},
   "source": [
    "# rna-tools"
   ]
  },
  {
   "cell_type": "markdown",
   "metadata": {
    "collapsed": true
   },
   "source": [
    "Examples of rna-tools:\n",
    "\n",
    "- RNA Puzzle 18 <https://github.com/mmagnus/rna-tools/blob/master/rp18.ipynb>\n",
    "- RNA Puzzle 19 <https://github.com/mmagnus/rna-tools/blob/master/rp19.ipynb>\n",
    "- RNA Alignment <https://github.com/mmagnus/rna-tools/blob/master/rna_tools/tools/rna_alignment/rna_alignment.ipynb> "
   ]
  }
 ],
 "metadata": {
  "hide_input": false,
  "kernelspec": {
   "display_name": "Python 2",
   "language": "python",
   "name": "python2"
  },
  "language_info": {
   "codemirror_mode": {
    "name": "ipython",
    "version": 2
   },
   "file_extension": ".py",
   "mimetype": "text/x-python",
   "name": "python",
   "nbconvert_exporter": "python",
   "pygments_lexer": "ipython2",
   "version": "2.7.15"
  },
  "toc": {
   "colors": {
    "hover_highlight": "#DAA520",
    "running_highlight": "#FF0000",
    "selected_highlight": "#FFD700"
   },
   "moveMenuLeft": true,
   "nav_menu": {
    "height": "12px",
    "width": "252px"
   },
   "navigate_menu": true,
   "number_sections": true,
   "sideBar": true,
   "threshold": 4,
   "toc_cell": true,
   "toc_position": {
    "height": "889px",
    "left": "0px",
    "right": "1350px",
    "top": "106px",
    "width": "263px"
   },
   "toc_section_display": "block",
   "toc_window_display": true,
   "widenNotebook": false
  }
 },
 "nbformat": 4,
 "nbformat_minor": 2
}
